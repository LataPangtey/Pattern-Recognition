{
  "cells": [
    {
      "cell_type": "code",
      "execution_count": 1,
      "metadata": {
        "id": "ka386xGf2K0f"
      },
      "outputs": [],
      "source": [
        "# gpu_info = !nvidia-smi\n",
        "# gpu_info = '\\n'.join(gpu_info)\n",
        "# if gpu_info.find('failed') >= 0:\n",
        "#   print('Not connected to a GPU')\n",
        "# else:\n",
        "#   print(gpu_info)"
      ]
    },
    {
      "cell_type": "code",
      "execution_count": 2,
      "metadata": {
        "id": "oWiwuZYK2K0h"
      },
      "outputs": [],
      "source": [
        "import os\n",
        "os.environ[\"CUDA_VISIBLE_DEVICES\"]=\"2\"\n",
        "os.environ[\"XLA_FLAGS\"] = \"--xla_gpu_cuda_data_dir='/usr/lib/cuda'\""
      ]
    },
    {
      "cell_type": "code",
      "execution_count": 3,
      "metadata": {
        "id": "TcmVdKpl2K0h",
        "colab": {
          "base_uri": "https://localhost:8080/"
        },
        "outputId": "ad063dec-48cd-40b4-ffd0-e37d4c1314d0"
      },
      "outputs": [
        {
          "output_type": "execute_result",
          "data": {
            "text/plain": [
              "False"
            ]
          },
          "metadata": {},
          "execution_count": 3
        }
      ],
      "source": [
        "import torch\n",
        "torch.cuda.is_available()"
      ]
    },
    {
      "cell_type": "code",
      "execution_count": 4,
      "metadata": {
        "colab": {
          "base_uri": "https://localhost:8080/"
        },
        "id": "Ni4YlmLUSFHD",
        "outputId": "52aac9da-9fd1-49d2-d800-ccb01dda86e3"
      },
      "outputs": [
        {
          "output_type": "stream",
          "name": "stdout",
          "text": [
            "Requirement already satisfied: simpletransformers in /usr/local/lib/python3.10/dist-packages (0.64.5)\n",
            "Requirement already satisfied: numpy in /usr/local/lib/python3.10/dist-packages (from simpletransformers) (1.23.5)\n",
            "Requirement already satisfied: requests in /usr/local/lib/python3.10/dist-packages (from simpletransformers) (2.31.0)\n",
            "Requirement already satisfied: tqdm>=4.47.0 in /usr/local/lib/python3.10/dist-packages (from simpletransformers) (4.66.1)\n",
            "Requirement already satisfied: regex in /usr/local/lib/python3.10/dist-packages (from simpletransformers) (2023.6.3)\n",
            "Requirement already satisfied: transformers>=4.31.0 in /usr/local/lib/python3.10/dist-packages (from simpletransformers) (4.35.2)\n",
            "Requirement already satisfied: datasets in /usr/local/lib/python3.10/dist-packages (from simpletransformers) (2.16.1)\n",
            "Requirement already satisfied: scipy in /usr/local/lib/python3.10/dist-packages (from simpletransformers) (1.11.4)\n",
            "Requirement already satisfied: scikit-learn in /usr/local/lib/python3.10/dist-packages (from simpletransformers) (1.2.2)\n",
            "Requirement already satisfied: seqeval in /usr/local/lib/python3.10/dist-packages (from simpletransformers) (1.2.2)\n",
            "Requirement already satisfied: tensorboard in /usr/local/lib/python3.10/dist-packages (from simpletransformers) (2.15.1)\n",
            "Requirement already satisfied: tensorboardx in /usr/local/lib/python3.10/dist-packages (from simpletransformers) (2.6.2.2)\n",
            "Requirement already satisfied: pandas in /usr/local/lib/python3.10/dist-packages (from simpletransformers) (1.5.3)\n",
            "Requirement already satisfied: tokenizers in /usr/local/lib/python3.10/dist-packages (from simpletransformers) (0.15.0)\n",
            "Requirement already satisfied: wandb>=0.10.32 in /usr/local/lib/python3.10/dist-packages (from simpletransformers) (0.16.2)\n",
            "Requirement already satisfied: streamlit in /usr/local/lib/python3.10/dist-packages (from simpletransformers) (1.29.0)\n",
            "Requirement already satisfied: sentencepiece in /usr/local/lib/python3.10/dist-packages (from simpletransformers) (0.1.99)\n",
            "Requirement already satisfied: filelock in /usr/local/lib/python3.10/dist-packages (from transformers>=4.31.0->simpletransformers) (3.13.1)\n",
            "Requirement already satisfied: huggingface-hub<1.0,>=0.16.4 in /usr/local/lib/python3.10/dist-packages (from transformers>=4.31.0->simpletransformers) (0.20.2)\n",
            "Requirement already satisfied: packaging>=20.0 in /usr/local/lib/python3.10/dist-packages (from transformers>=4.31.0->simpletransformers) (23.2)\n",
            "Requirement already satisfied: pyyaml>=5.1 in /usr/local/lib/python3.10/dist-packages (from transformers>=4.31.0->simpletransformers) (6.0.1)\n",
            "Requirement already satisfied: safetensors>=0.3.1 in /usr/local/lib/python3.10/dist-packages (from transformers>=4.31.0->simpletransformers) (0.4.1)\n",
            "Requirement already satisfied: Click!=8.0.0,>=7.1 in /usr/local/lib/python3.10/dist-packages (from wandb>=0.10.32->simpletransformers) (8.1.7)\n",
            "Requirement already satisfied: GitPython!=3.1.29,>=1.0.0 in /usr/local/lib/python3.10/dist-packages (from wandb>=0.10.32->simpletransformers) (3.1.40)\n",
            "Requirement already satisfied: psutil>=5.0.0 in /usr/local/lib/python3.10/dist-packages (from wandb>=0.10.32->simpletransformers) (5.9.5)\n",
            "Requirement already satisfied: sentry-sdk>=1.0.0 in /usr/local/lib/python3.10/dist-packages (from wandb>=0.10.32->simpletransformers) (1.39.2)\n",
            "Requirement already satisfied: docker-pycreds>=0.4.0 in /usr/local/lib/python3.10/dist-packages (from wandb>=0.10.32->simpletransformers) (0.4.0)\n",
            "Requirement already satisfied: setproctitle in /usr/local/lib/python3.10/dist-packages (from wandb>=0.10.32->simpletransformers) (1.3.3)\n",
            "Requirement already satisfied: setuptools in /usr/local/lib/python3.10/dist-packages (from wandb>=0.10.32->simpletransformers) (67.7.2)\n",
            "Requirement already satisfied: appdirs>=1.4.3 in /usr/local/lib/python3.10/dist-packages (from wandb>=0.10.32->simpletransformers) (1.4.4)\n",
            "Requirement already satisfied: protobuf!=4.21.0,<5,>=3.19.0 in /usr/local/lib/python3.10/dist-packages (from wandb>=0.10.32->simpletransformers) (3.20.3)\n",
            "Requirement already satisfied: charset-normalizer<4,>=2 in /usr/local/lib/python3.10/dist-packages (from requests->simpletransformers) (3.3.2)\n",
            "Requirement already satisfied: idna<4,>=2.5 in /usr/local/lib/python3.10/dist-packages (from requests->simpletransformers) (3.6)\n",
            "Requirement already satisfied: urllib3<3,>=1.21.1 in /usr/local/lib/python3.10/dist-packages (from requests->simpletransformers) (2.0.7)\n",
            "Requirement already satisfied: certifi>=2017.4.17 in /usr/local/lib/python3.10/dist-packages (from requests->simpletransformers) (2023.11.17)\n",
            "Requirement already satisfied: pyarrow>=8.0.0 in /usr/local/lib/python3.10/dist-packages (from datasets->simpletransformers) (10.0.1)\n",
            "Requirement already satisfied: pyarrow-hotfix in /usr/local/lib/python3.10/dist-packages (from datasets->simpletransformers) (0.6)\n",
            "Requirement already satisfied: dill<0.3.8,>=0.3.0 in /usr/local/lib/python3.10/dist-packages (from datasets->simpletransformers) (0.3.7)\n",
            "Requirement already satisfied: xxhash in /usr/local/lib/python3.10/dist-packages (from datasets->simpletransformers) (3.4.1)\n",
            "Requirement already satisfied: multiprocess in /usr/local/lib/python3.10/dist-packages (from datasets->simpletransformers) (0.70.15)\n",
            "Requirement already satisfied: fsspec[http]<=2023.10.0,>=2023.1.0 in /usr/local/lib/python3.10/dist-packages (from datasets->simpletransformers) (2023.6.0)\n",
            "Requirement already satisfied: aiohttp in /usr/local/lib/python3.10/dist-packages (from datasets->simpletransformers) (3.9.1)\n",
            "Requirement already satisfied: python-dateutil>=2.8.1 in /usr/local/lib/python3.10/dist-packages (from pandas->simpletransformers) (2.8.2)\n",
            "Requirement already satisfied: pytz>=2020.1 in /usr/local/lib/python3.10/dist-packages (from pandas->simpletransformers) (2023.3.post1)\n",
            "Requirement already satisfied: joblib>=1.1.1 in /usr/local/lib/python3.10/dist-packages (from scikit-learn->simpletransformers) (1.3.2)\n",
            "Requirement already satisfied: threadpoolctl>=2.0.0 in /usr/local/lib/python3.10/dist-packages (from scikit-learn->simpletransformers) (3.2.0)\n",
            "Requirement already satisfied: altair<6,>=4.0 in /usr/local/lib/python3.10/dist-packages (from streamlit->simpletransformers) (4.2.2)\n",
            "Requirement already satisfied: blinker<2,>=1.0.0 in /usr/lib/python3/dist-packages (from streamlit->simpletransformers) (1.4)\n",
            "Requirement already satisfied: cachetools<6,>=4.0 in /usr/local/lib/python3.10/dist-packages (from streamlit->simpletransformers) (5.3.2)\n",
            "Requirement already satisfied: importlib-metadata<7,>=1.4 in /usr/local/lib/python3.10/dist-packages (from streamlit->simpletransformers) (6.11.0)\n",
            "Requirement already satisfied: pillow<11,>=7.1.0 in /usr/local/lib/python3.10/dist-packages (from streamlit->simpletransformers) (9.4.0)\n",
            "Requirement already satisfied: rich<14,>=10.14.0 in /usr/local/lib/python3.10/dist-packages (from streamlit->simpletransformers) (13.7.0)\n",
            "Requirement already satisfied: tenacity<9,>=8.1.0 in /usr/local/lib/python3.10/dist-packages (from streamlit->simpletransformers) (8.2.3)\n",
            "Requirement already satisfied: toml<2,>=0.10.1 in /usr/local/lib/python3.10/dist-packages (from streamlit->simpletransformers) (0.10.2)\n",
            "Requirement already satisfied: typing-extensions<5,>=4.3.0 in /usr/local/lib/python3.10/dist-packages (from streamlit->simpletransformers) (4.5.0)\n",
            "Requirement already satisfied: tzlocal<6,>=1.1 in /usr/local/lib/python3.10/dist-packages (from streamlit->simpletransformers) (5.2)\n",
            "Requirement already satisfied: validators<1,>=0.2 in /usr/local/lib/python3.10/dist-packages (from streamlit->simpletransformers) (0.22.0)\n",
            "Requirement already satisfied: pydeck<1,>=0.8.0b4 in /usr/local/lib/python3.10/dist-packages (from streamlit->simpletransformers) (0.8.1b0)\n",
            "Requirement already satisfied: tornado<7,>=6.0.3 in /usr/local/lib/python3.10/dist-packages (from streamlit->simpletransformers) (6.3.2)\n",
            "Requirement already satisfied: watchdog>=2.1.5 in /usr/local/lib/python3.10/dist-packages (from streamlit->simpletransformers) (3.0.0)\n",
            "Requirement already satisfied: absl-py>=0.4 in /usr/local/lib/python3.10/dist-packages (from tensorboard->simpletransformers) (1.4.0)\n",
            "Requirement already satisfied: grpcio>=1.48.2 in /usr/local/lib/python3.10/dist-packages (from tensorboard->simpletransformers) (1.60.0)\n",
            "Requirement already satisfied: google-auth<3,>=1.6.3 in /usr/local/lib/python3.10/dist-packages (from tensorboard->simpletransformers) (2.17.3)\n",
            "Requirement already satisfied: google-auth-oauthlib<2,>=0.5 in /usr/local/lib/python3.10/dist-packages (from tensorboard->simpletransformers) (1.2.0)\n",
            "Requirement already satisfied: markdown>=2.6.8 in /usr/local/lib/python3.10/dist-packages (from tensorboard->simpletransformers) (3.5.1)\n",
            "Requirement already satisfied: six>1.9 in /usr/local/lib/python3.10/dist-packages (from tensorboard->simpletransformers) (1.16.0)\n",
            "Requirement already satisfied: tensorboard-data-server<0.8.0,>=0.7.0 in /usr/local/lib/python3.10/dist-packages (from tensorboard->simpletransformers) (0.7.2)\n",
            "Requirement already satisfied: werkzeug>=1.0.1 in /usr/local/lib/python3.10/dist-packages (from tensorboard->simpletransformers) (3.0.1)\n",
            "Requirement already satisfied: entrypoints in /usr/local/lib/python3.10/dist-packages (from altair<6,>=4.0->streamlit->simpletransformers) (0.4)\n",
            "Requirement already satisfied: jinja2 in /usr/local/lib/python3.10/dist-packages (from altair<6,>=4.0->streamlit->simpletransformers) (3.1.2)\n",
            "Requirement already satisfied: jsonschema>=3.0 in /usr/local/lib/python3.10/dist-packages (from altair<6,>=4.0->streamlit->simpletransformers) (4.19.2)\n",
            "Requirement already satisfied: toolz in /usr/local/lib/python3.10/dist-packages (from altair<6,>=4.0->streamlit->simpletransformers) (0.12.0)\n",
            "Requirement already satisfied: attrs>=17.3.0 in /usr/local/lib/python3.10/dist-packages (from aiohttp->datasets->simpletransformers) (23.2.0)\n",
            "Requirement already satisfied: multidict<7.0,>=4.5 in /usr/local/lib/python3.10/dist-packages (from aiohttp->datasets->simpletransformers) (6.0.4)\n",
            "Requirement already satisfied: yarl<2.0,>=1.0 in /usr/local/lib/python3.10/dist-packages (from aiohttp->datasets->simpletransformers) (1.9.4)\n",
            "Requirement already satisfied: frozenlist>=1.1.1 in /usr/local/lib/python3.10/dist-packages (from aiohttp->datasets->simpletransformers) (1.4.1)\n",
            "Requirement already satisfied: aiosignal>=1.1.2 in /usr/local/lib/python3.10/dist-packages (from aiohttp->datasets->simpletransformers) (1.3.1)\n",
            "Requirement already satisfied: async-timeout<5.0,>=4.0 in /usr/local/lib/python3.10/dist-packages (from aiohttp->datasets->simpletransformers) (4.0.3)\n",
            "Requirement already satisfied: gitdb<5,>=4.0.1 in /usr/local/lib/python3.10/dist-packages (from GitPython!=3.1.29,>=1.0.0->wandb>=0.10.32->simpletransformers) (4.0.11)\n",
            "Requirement already satisfied: pyasn1-modules>=0.2.1 in /usr/local/lib/python3.10/dist-packages (from google-auth<3,>=1.6.3->tensorboard->simpletransformers) (0.3.0)\n",
            "Requirement already satisfied: rsa<5,>=3.1.4 in /usr/local/lib/python3.10/dist-packages (from google-auth<3,>=1.6.3->tensorboard->simpletransformers) (4.9)\n",
            "Requirement already satisfied: requests-oauthlib>=0.7.0 in /usr/local/lib/python3.10/dist-packages (from google-auth-oauthlib<2,>=0.5->tensorboard->simpletransformers) (1.3.1)\n",
            "Requirement already satisfied: zipp>=0.5 in /usr/local/lib/python3.10/dist-packages (from importlib-metadata<7,>=1.4->streamlit->simpletransformers) (3.17.0)\n",
            "Requirement already satisfied: markdown-it-py>=2.2.0 in /usr/local/lib/python3.10/dist-packages (from rich<14,>=10.14.0->streamlit->simpletransformers) (3.0.0)\n",
            "Requirement already satisfied: pygments<3.0.0,>=2.13.0 in /usr/local/lib/python3.10/dist-packages (from rich<14,>=10.14.0->streamlit->simpletransformers) (2.16.1)\n",
            "Requirement already satisfied: MarkupSafe>=2.1.1 in /usr/local/lib/python3.10/dist-packages (from werkzeug>=1.0.1->tensorboard->simpletransformers) (2.1.3)\n",
            "Requirement already satisfied: smmap<6,>=3.0.1 in /usr/local/lib/python3.10/dist-packages (from gitdb<5,>=4.0.1->GitPython!=3.1.29,>=1.0.0->wandb>=0.10.32->simpletransformers) (5.0.1)\n",
            "Requirement already satisfied: jsonschema-specifications>=2023.03.6 in /usr/local/lib/python3.10/dist-packages (from jsonschema>=3.0->altair<6,>=4.0->streamlit->simpletransformers) (2023.12.1)\n",
            "Requirement already satisfied: referencing>=0.28.4 in /usr/local/lib/python3.10/dist-packages (from jsonschema>=3.0->altair<6,>=4.0->streamlit->simpletransformers) (0.32.0)\n",
            "Requirement already satisfied: rpds-py>=0.7.1 in /usr/local/lib/python3.10/dist-packages (from jsonschema>=3.0->altair<6,>=4.0->streamlit->simpletransformers) (0.16.2)\n",
            "Requirement already satisfied: mdurl~=0.1 in /usr/local/lib/python3.10/dist-packages (from markdown-it-py>=2.2.0->rich<14,>=10.14.0->streamlit->simpletransformers) (0.1.2)\n",
            "Requirement already satisfied: pyasn1<0.6.0,>=0.4.6 in /usr/local/lib/python3.10/dist-packages (from pyasn1-modules>=0.2.1->google-auth<3,>=1.6.3->tensorboard->simpletransformers) (0.5.1)\n",
            "Requirement already satisfied: oauthlib>=3.0.0 in /usr/local/lib/python3.10/dist-packages (from requests-oauthlib>=0.7.0->google-auth-oauthlib<2,>=0.5->tensorboard->simpletransformers) (3.2.2)\n"
          ]
        },
        {
          "output_type": "stream",
          "name": "stderr",
          "text": [
            "[nltk_data] Downloading package vader_lexicon to /root/nltk_data...\n",
            "[nltk_data]   Package vader_lexicon is already up-to-date!\n"
          ]
        }
      ],
      "source": [
        "!pip install simpletransformers\n",
        "import os\n",
        "import matplotlib.pyplot as plt\n",
        "import copy\n",
        "import random\n",
        "import numpy as np\n",
        "import pandas as pd\n",
        "import tensorflow as tf\n",
        "from sklearn.model_selection import train_test_split\n",
        "from tqdm import tqdm\n",
        "from transformers import AutoTokenizer, TFAutoModelForSequenceClassification,DataCollatorWithPadding\n",
        "from datasets import load_dataset\n",
        "from tensorflow.keras.optimizers.schedules import PolynomialDecay\n",
        "from tensorflow.keras.losses import SparseCategoricalCrossentropy\n",
        "from tensorflow.keras.optimizers import Adam,Nadam\n",
        "from datasets import Dataset, DatasetDict\n",
        "from tensorflow.keras.layers import Dense, BatchNormalization\n",
        "from transformers import DataCollatorWithPadding\n",
        "\n",
        "from sklearn.model_selection import train_test_split\n",
        "from collections import Counter\n",
        "os.environ[\"TOKENIZERS_PARALLELISM\"] = \"false\"\n",
        "import nltk\n",
        "nltk.download('vader_lexicon')\n",
        "from nltk.sentiment import SentimentIntensityAnalyzer\n",
        "\n",
        "from tensorflow.keras.layers import Dropout, Dense, Reshape, Bidirectional, GRU, GlobalMaxPooling1D,Flatten,Reshape,MultiHeadAttention,Layer,Activation, Multiply, Lambda, Permute\n",
        "\n",
        "\n",
        "from tensorflow.keras import Input, Model, regularizers\n",
        "#!pip install transformers==4.36.1"
      ]
    },
    {
      "cell_type": "code",
      "execution_count": 5,
      "metadata": {
        "id": "_tDblJx4PwOU"
      },
      "outputs": [],
      "source": [
        "# train = pd.read_csv(\"/content/rumoureval2019_train.csv\")\n",
        "# test = pd.read_csv(\"/content/rumoureval2019_test.csv\")\n",
        "# val = pd.read_csv(\"/content/rumoureval2019_val.csv\")\n",
        "# # print(train.shape)\n",
        "# # train.sample(5)\n",
        "\n",
        "# import pandas as pd\n",
        "# from sklearn.model_selection import train_test_split\n",
        "\n",
        "model_checkpoint = \"roberta-base\"  # Use RoBERTa model\n",
        "batch_size = 8"
      ]
    },
    {
      "cell_type": "code",
      "execution_count": 6,
      "metadata": {
        "id": "QIymWQt5n3Yq"
      },
      "outputs": [],
      "source": [
        "# null_values = train.isnull().sum()\n",
        "# print(\"Null values in each column:\\n\", null_values)\n",
        "# # Remove rows with null entries\n",
        "# train = train.dropna()\n",
        "\n",
        "\n",
        "# null_values = val.isnull().sum()\n",
        "# print(\"Null values in each column:\\n\", null_values)\n",
        "# # Remove rows with null entries\n",
        "# val = val.dropna()\n",
        "\n",
        "# null_values = test.isnull().sum()\n",
        "# print(\"Null values in each column:\\n\", null_values)\n",
        "# # Remove rows with null entries\n",
        "# test = val.dropna()"
      ]
    },
    {
      "cell_type": "code",
      "execution_count": 7,
      "metadata": {
        "id": "lV4Opuidrlzl"
      },
      "outputs": [],
      "source": [
        "# print(\"Original labels:\\n\", train['label'].sample(5))\n",
        "\n",
        "# # Create a mapping dictionary for label conversion\n",
        "# label_mapping = {'support': 0, 'comment': 1, 'deny': 2, 'query': 3}\n",
        "\n",
        "# # Replace string labels with numerical values\n",
        "# train['label_number'] = train['label'].map(label_mapping)\n",
        "# val['label_number'] = val['label'].map(label_mapping)\n",
        "# test['label_number'] = test['label'].map(label_mapping)\n",
        "\n",
        "# # Display the updated DataFrame with numerical labels\n",
        "# print(\"\\nUpdated labels:\\n\", train['label_number'].sample(5))\n",
        "# train.to_csv(\"/content/rumoureval2019_train_modified.csv\", index=False)\n",
        "# val.to_csv(\"/content/rumoureval2019_val_modified.csv\", index=False)\n",
        "# test.to_csv(\"/content/rumoureval2019_test_modified.csv\", index=False)"
      ]
    },
    {
      "cell_type": "code",
      "execution_count": 8,
      "metadata": {
        "id": "XI2i1q04rpl0"
      },
      "outputs": [],
      "source": [
        "# val.head(10)"
      ]
    },
    {
      "cell_type": "code",
      "source": [
        "import nltk\n",
        "nltk.download('vader_lexicon')\n",
        "from nltk.sentiment import SentimentIntensityAnalyzer\n",
        "sia = SentimentIntensityAnalyzer()"
      ],
      "metadata": {
        "id": "MhBet3VO9lIl",
        "outputId": "c08c7551-e495-48ed-a38a-ada7be571886",
        "colab": {
          "base_uri": "https://localhost:8080/"
        }
      },
      "execution_count": 9,
      "outputs": [
        {
          "output_type": "stream",
          "name": "stderr",
          "text": [
            "[nltk_data] Downloading package vader_lexicon to /root/nltk_data...\n",
            "[nltk_data]   Package vader_lexicon is already up-to-date!\n"
          ]
        }
      ]
    },
    {
      "cell_type": "code",
      "source": [
        "train=pd.read_csv(\"/content/rumoureval2019_train_modified.csv\")\n",
        "test=pd.read_csv(\"/content/rumoureval2019_test_modified.csv\")\n",
        "val=pd.read_csv(\"/content/rumoureval2019_val_modified.csv\")"
      ],
      "metadata": {
        "id": "NNiBZbhS9dp1"
      },
      "execution_count": 10,
      "outputs": []
    },
    {
      "cell_type": "code",
      "source": [
        "def find_sentiment_positive(tweet):\n",
        "   return sia.polarity_scores(tweet)[\"pos\"]\n",
        "def find_sentiment_negative(tweet):\n",
        "   return sia.polarity_scores(tweet)[\"neg\"]\n",
        "def find_sentiment_neutral(tweet):\n",
        "   return sia.polarity_scores(tweet)[\"neu\"]\n"
      ],
      "metadata": {
        "id": "LG0bDFV99Nen"
      },
      "execution_count": 11,
      "outputs": []
    },
    {
      "cell_type": "code",
      "source": [
        "vader_positive_sentiments_source_text_train = train.source_text.apply(find_sentiment_positive)\n",
        "vader_negative_sentiments_source_text_train = train.source_text.apply(find_sentiment_negative)\n",
        "vader_neutral_sentiments_source_text_train = train.source_text.apply(find_sentiment_neutral)\n",
        "vader_positive_sentiments_reply_text_train = train.reply_text.apply(find_sentiment_positive)\n",
        "vader_negative_sentiments_reply_text_train = train.reply_text.apply(find_sentiment_negative)\n",
        "vader_neutral_sentiments_reply_text_train = train.reply_text.apply(find_sentiment_neutral)"
      ],
      "metadata": {
        "id": "EdBpMbPh9QPk"
      },
      "execution_count": 12,
      "outputs": []
    },
    {
      "cell_type": "code",
      "source": [
        "vader_positive_sentiments_source_text_val = val.source_text.apply(find_sentiment_positive)\n",
        "vader_negative_sentiments_source_text_val = val.source_text.apply(find_sentiment_negative)\n",
        "vader_neutral_sentiments_source_text_val = val.source_text.apply(find_sentiment_neutral)\n",
        "vader_positive_sentiments_reply_text_val = val.reply_text.apply(find_sentiment_positive)\n",
        "vader_negative_sentiments_reply_text_val = val.reply_text.apply(find_sentiment_negative)\n",
        "vader_neutral_sentiments_reply_text_val = val.reply_text.apply(find_sentiment_neutral)"
      ],
      "metadata": {
        "id": "54W0hhul9VVT"
      },
      "execution_count": 13,
      "outputs": []
    },
    {
      "cell_type": "code",
      "source": [
        "vader_positive_sentiments_source_text_test = test.source_text.apply(find_sentiment_positive)\n",
        "vader_negative_sentiments_source_text_test = test.source_text.apply(find_sentiment_negative)\n",
        "vader_neutral_sentiments_source_text_test = test.source_text.apply(find_sentiment_neutral)\n",
        "vader_positive_sentiments_reply_text_test = test.reply_text.apply(find_sentiment_positive)\n",
        "vader_negative_sentiments_reply_text_test = test.reply_text.apply(find_sentiment_negative)\n",
        "vader_neutral_sentiments_reply_text_test = test.reply_text.apply(find_sentiment_neutral)"
      ],
      "metadata": {
        "id": "7xk31d-Z-KoT"
      },
      "execution_count": 14,
      "outputs": []
    },
    {
      "cell_type": "code",
      "source": [
        "train['v_p_s'] = 2*vader_positive_sentiments_source_text_train\n",
        "\n",
        "train['v_neg_s'] = 2*vader_negative_sentiments_source_text_train\n",
        "\n",
        "train['v_neu_s'] = 2*vader_neutral_sentiments_source_text_train\n",
        "train.head()\n",
        "train['v_p_r'] = 2*vader_positive_sentiments_reply_text_train\n",
        "\n",
        "train['v_neg_r'] = 2*vader_negative_sentiments_reply_text_train\n",
        "\n",
        "train['v_neu_r'] = 2*vader_neutral_sentiments_reply_text_train\n",
        "train.head()\n",
        "\n",
        "train = train[['source_text', 'reply_text', 'label','label_number', 'v_p_s',\t'v_neg_s',\t'v_neu_s'\t,'v_p_r',\t'v_neg_r',\t'v_neu_r']]"
      ],
      "metadata": {
        "id": "NYyRC7wt9XZj"
      },
      "execution_count": 15,
      "outputs": []
    },
    {
      "cell_type": "code",
      "source": [
        "val['v_p_s'] = 2*vader_positive_sentiments_source_text_val\n",
        "\n",
        "val['v_neg_s'] = 2*vader_negative_sentiments_source_text_val\n",
        "\n",
        "val['v_neu_s'] = 2*vader_neutral_sentiments_source_text_val\n",
        "val.head()\n",
        "val['v_p_r'] = 2*vader_positive_sentiments_reply_text_val\n",
        "\n",
        "val['v_neg_r'] = 2*vader_negative_sentiments_reply_text_val\n",
        "\n",
        "val['v_neu_r'] = 2*vader_neutral_sentiments_reply_text_val\n",
        "val.head()\n",
        "\n",
        "val = val[['source_text', 'reply_text', 'label' ,'label_number','v_p_s',\t'v_neg_s',\t'v_neu_s'\t,'v_p_r',\t'v_neg_r',\t'v_neu_r']]"
      ],
      "metadata": {
        "id": "LPaM4bi-9_UJ"
      },
      "execution_count": 16,
      "outputs": []
    },
    {
      "cell_type": "code",
      "source": [
        "test['v_p_s'] = 2*vader_positive_sentiments_source_text_test\n",
        "\n",
        "test['v_neg_s'] = 2*vader_negative_sentiments_source_text_test\n",
        "\n",
        "test['v_neu_s'] = 2*vader_neutral_sentiments_source_text_test\n",
        "test.head()\n",
        "test['v_p_r'] = 2*vader_positive_sentiments_reply_text_test\n",
        "\n",
        "test['v_neg_r'] = 2*vader_negative_sentiments_reply_text_test\n",
        "\n",
        "test['v_neu_r'] = 2*vader_neutral_sentiments_reply_text_test\n",
        "test.head()\n",
        "\n",
        "test = test[['source_text', 'reply_text', 'label','label_number', 'v_p_s',\t'v_neg_s',\t'v_neu_s'\t,'v_p_r',\t'v_neg_r',\t'v_neu_r']]"
      ],
      "metadata": {
        "id": "i8udzEUw-wEA"
      },
      "execution_count": 17,
      "outputs": []
    },
    {
      "cell_type": "code",
      "source": [
        "\n",
        "train.to_csv('rumoureval2019_train_modified.csv', index=False)\n",
        "\n",
        "val.to_csv('rumoureval2019_val_modified.csv', index=False)\n",
        "\n",
        "test.to_csv('rumoureval2019_test_modified.csv', index=False)\n"
      ],
      "metadata": {
        "id": "KgjNgmJD-4hH"
      },
      "execution_count": 18,
      "outputs": []
    },
    {
      "cell_type": "code",
      "source": [
        "# Split the data into train, validation, and test sets\n",
        "# train_data, test_data = train_test_split(train ,test_size=0.2, random_state=42)\n",
        "\n",
        "# print(test_data.shape)\n",
        "# test_data.tail(5)\n",
        "# train_data, val_data  = train_test_split(train_data ,test_size=0.2, random_state=1, shuffle=False)\n",
        "# train_data.to_csv('train_clean.csv',index=False)\n",
        "# val_data.to_csv('val_clean.csv',index=False)\n",
        "# test_data.to_csv('test_clean.csv',index=False)\n",
        "\n",
        "dataset = load_dataset('csv', data_files={'train': './rumoureval2019_train_modified.csv','valid':'./rumoureval2019_val_modified.csv','test':'./rumoureval2019_test_modified.csv'})\n",
        "\n",
        "dataset"
      ],
      "metadata": {
        "id": "cDdiSotq_MTM",
        "outputId": "6c152d1c-6265-4701-9eb4-4e3ff463e72c",
        "colab": {
          "base_uri": "https://localhost:8080/",
          "height": 356,
          "referenced_widgets": [
            "404b3262fc33429b8152585359c048b6",
            "f54c10d95e2a45df8d49de1d1f1038ff",
            "d421d22a5d8841358bf1ff24dfb499c4",
            "e1984ef5649149a4bd556b4db2f339d9",
            "1892a24a8a3c471b8fcc8364ebc45d72",
            "796cff39b5874482860b2dc10e303bd9",
            "e1d4cec46e8a447ab3b7b6efbee5093f",
            "eeca543f0dc34ed592fa0314cb21166e",
            "b4108a230f4541a8bb27c3a9a3313cea",
            "46dc3e26e6994fe1b61634f3f7524e63",
            "b9cbce7325a94270bbbd3b638bd6599e",
            "57bd39c624824f10988d871308c910ed",
            "a42f500cb5194605bb22474ee68686db",
            "e108d52d078245e783d9886386ed8155",
            "2ac01771a90b45759ffc79f410038c45",
            "26c441e31a7d43308a6d495b8593f733",
            "54033917cda346df86121b3a16fb4395",
            "a3f18d9679a6465d99a44f51a4a66b26",
            "f127e5a3901648d28cd23ddc16d8e4a5",
            "d1eb517b2c3d4e208a4b1b46cac4481c",
            "ecf4221b54aa4117bf5bf254bd221f6e",
            "bf550ac26f694cbba6468acb55785beb",
            "a089e2516b564df2bbbec6227da58c1d",
            "cfcffee2ae844b2aa9e70506fa3578fe",
            "eb0b90d0ebac42abb0436644b3143030",
            "40f6e7f916d247acaf752ff5e65cfccb",
            "3c146a52af9140ad8c7f62dced61ad5a",
            "006d5df0329f442bb72003d773bc203c",
            "2245e54af54c41ab8bedf084b570a5d3",
            "f2f397a4e1534c01b58f4d58062aa295",
            "b676ffa6f9954096bc87faf59e005884",
            "32fd4a2947be441d84aadcc987e26386",
            "a227a71183ca4066a61088ceb4dd2c71"
          ]
        }
      },
      "execution_count": 19,
      "outputs": [
        {
          "output_type": "display_data",
          "data": {
            "text/plain": [
              "Generating train split: 0 examples [00:00, ? examples/s]"
            ],
            "application/vnd.jupyter.widget-view+json": {
              "version_major": 2,
              "version_minor": 0,
              "model_id": "404b3262fc33429b8152585359c048b6"
            }
          },
          "metadata": {}
        },
        {
          "output_type": "display_data",
          "data": {
            "text/plain": [
              "Generating valid split: 0 examples [00:00, ? examples/s]"
            ],
            "application/vnd.jupyter.widget-view+json": {
              "version_major": 2,
              "version_minor": 0,
              "model_id": "57bd39c624824f10988d871308c910ed"
            }
          },
          "metadata": {}
        },
        {
          "output_type": "display_data",
          "data": {
            "text/plain": [
              "Generating test split: 0 examples [00:00, ? examples/s]"
            ],
            "application/vnd.jupyter.widget-view+json": {
              "version_major": 2,
              "version_minor": 0,
              "model_id": "a089e2516b564df2bbbec6227da58c1d"
            }
          },
          "metadata": {}
        },
        {
          "output_type": "execute_result",
          "data": {
            "text/plain": [
              "DatasetDict({\n",
              "    train: Dataset({\n",
              "        features: ['source_text', 'reply_text', 'label', 'label_number', 'v_p_s', 'v_neg_s', 'v_neu_s', 'v_p_r', 'v_neg_r', 'v_neu_r'],\n",
              "        num_rows: 4725\n",
              "    })\n",
              "    valid: Dataset({\n",
              "        features: ['source_text', 'reply_text', 'label', 'label_number', 'v_p_s', 'v_neg_s', 'v_neu_s', 'v_p_r', 'v_neg_r', 'v_neu_r'],\n",
              "        num_rows: 1440\n",
              "    })\n",
              "    test: Dataset({\n",
              "        features: ['source_text', 'reply_text', 'label', 'label_number', 'v_p_s', 'v_neg_s', 'v_neu_s', 'v_p_r', 'v_neg_r', 'v_neu_r'],\n",
              "        num_rows: 1827\n",
              "    })\n",
              "})"
            ]
          },
          "metadata": {},
          "execution_count": 19
        }
      ]
    },
    {
      "cell_type": "code",
      "execution_count": 20,
      "metadata": {
        "colab": {
          "base_uri": "https://localhost:8080/",
          "height": 497,
          "referenced_widgets": [
            "f3af4f72d66748e086276cfca3f16747",
            "55b372350f47461e8e19b2d14499b58d",
            "288f0df7137c405392c297cea44e1a5f",
            "6a55f4cee93c47979bdc8801dab62c21",
            "513730c5560d4836b05e6d4c973eadf7",
            "355c1599f4c94b188f3906750921aca0",
            "44d19092bdc84565a283b0327a874511",
            "fe285beb16bf48a4a39748b850ceb460",
            "1c0c1a844baa457684b382cd1f6178e5",
            "ff51c75e40324d70821f479e8239bffe",
            "2fb9c00e34c4446faaaf633051cb2371",
            "a5e5b709301242369494a42617643aed",
            "aba0190aa174417186fae09e9ee2393b",
            "2687e058d90d4dc88196dec4e86cca7a",
            "45999c50ad794bb6a33beb9cf96483b0",
            "0e2b8d25ff064c718ff36501ee51da12",
            "3e266fbadc994812b370cc7ad8ea6b3f",
            "63bb462c36bc4923aea92a0b85ff0f5d",
            "645ca65b2e4b4ceb9add60d25947043a",
            "e325161a343a4a06abd439c4ff564f8f",
            "9f9842a1b5c048558d565942a6d76e69",
            "31e9aebce2974778833b6950d87d1ced",
            "f1e5544a44e04919a51d5a84e68d822a",
            "1087a0aa7d274e6ca92bfd81adf7e3ba",
            "5b56423156f6424bbabc7a306131c08f",
            "8ccbda3903a943ffb15e9abdf3e95daa",
            "6c6c291a9ede4e16a82c22fe22f70987",
            "7461da9102c44918a15acbba654e5165",
            "bb5240523468455593b0accc73e5d894",
            "f180781efe764f23a33cf5aa26a97b5b",
            "447c578325ac4c4fbe178ab8eedbdd95",
            "2be4d325119f4cb5bbf490f19c47f44e",
            "49a724d7169a4e1e81e40d95250ad7f2"
          ]
        },
        "id": "tzuc4whoA9eM",
        "outputId": "68e96e7e-6a80-4502-9ef5-2a8c7502e078"
      },
      "outputs": [
        {
          "output_type": "stream",
          "name": "stderr",
          "text": [
            "/usr/local/lib/python3.10/dist-packages/huggingface_hub/utils/_token.py:88: UserWarning: \n",
            "The secret `HF_TOKEN` does not exist in your Colab secrets.\n",
            "To authenticate with the Hugging Face Hub, create a token in your settings tab (https://huggingface.co/settings/tokens), set it as secret in your Google Colab and restart your session.\n",
            "You will be able to reuse this secret in all of your notebooks.\n",
            "Please note that authentication is recommended but still optional to access public models or datasets.\n",
            "  warnings.warn(\n"
          ]
        },
        {
          "output_type": "display_data",
          "data": {
            "text/plain": [
              "Map:   0%|          | 0/4725 [00:00<?, ? examples/s]"
            ],
            "application/vnd.jupyter.widget-view+json": {
              "version_major": 2,
              "version_minor": 0,
              "model_id": "f3af4f72d66748e086276cfca3f16747"
            }
          },
          "metadata": {}
        },
        {
          "output_type": "display_data",
          "data": {
            "text/plain": [
              "Map:   0%|          | 0/1440 [00:00<?, ? examples/s]"
            ],
            "application/vnd.jupyter.widget-view+json": {
              "version_major": 2,
              "version_minor": 0,
              "model_id": "a5e5b709301242369494a42617643aed"
            }
          },
          "metadata": {}
        },
        {
          "output_type": "display_data",
          "data": {
            "text/plain": [
              "Map:   0%|          | 0/1827 [00:00<?, ? examples/s]"
            ],
            "application/vnd.jupyter.widget-view+json": {
              "version_major": 2,
              "version_minor": 0,
              "model_id": "f1e5544a44e04919a51d5a84e68d822a"
            }
          },
          "metadata": {}
        },
        {
          "output_type": "stream",
          "name": "stdout",
          "text": [
            "DatasetDict({\n",
            "    train: Dataset({\n",
            "        features: ['source_text', 'reply_text', 'label', 'label_number', 'v_p_s', 'v_neg_s', 'v_neu_s', 'v_p_r', 'v_neg_r', 'v_neu_r', 'input_ids', 'attention_mask', 'token_type_ids'],\n",
            "        num_rows: 4725\n",
            "    })\n",
            "    valid: Dataset({\n",
            "        features: ['source_text', 'reply_text', 'label', 'label_number', 'v_p_s', 'v_neg_s', 'v_neu_s', 'v_p_r', 'v_neg_r', 'v_neu_r', 'input_ids', 'attention_mask', 'token_type_ids'],\n",
            "        num_rows: 1440\n",
            "    })\n",
            "    test: Dataset({\n",
            "        features: ['source_text', 'reply_text', 'label', 'label_number', 'v_p_s', 'v_neg_s', 'v_neu_s', 'v_p_r', 'v_neg_r', 'v_neu_r', 'input_ids', 'attention_mask', 'token_type_ids'],\n",
            "        num_rows: 1827\n",
            "    })\n",
            "})\n",
            "Columns added by tokenizer: ['input_ids', 'attention_mask', 'token_type_ids']\n"
          ]
        }
      ],
      "source": [
        "model_checkpoint = \"roberta-base\"\n",
        "tokenizer = AutoTokenizer.from_pretrained(model_checkpoint)\n",
        "\n",
        "def preprocess_function_source(records):\n",
        "    tokenized = tokenizer(records['source_text'], truncation=True,padding='max_length', return_token_type_ids=True, max_length=128)\n",
        "    return {\n",
        "        'input_ids': tokenized['input_ids'],\n",
        "        'attention_mask': tokenized['attention_mask'],\n",
        "        'token_type_ids': tokenized['token_type_ids']\n",
        "    }\n",
        "\n",
        "\n",
        "pre_tokenizer_columns_source = set(dataset[\"train\"].features)\n",
        "\n",
        "pre_tokenizer_columns_source\n",
        "\n",
        "encoded_dataset_source = dataset.map(preprocess_function_source, batched=True, )\n",
        "\n",
        "print(encoded_dataset_source)\n",
        "\n",
        "tokenizer_columns_source = list(set(encoded_dataset_source[\"train\"].features) - pre_tokenizer_columns_source)\n",
        "\n",
        "\n",
        "\n",
        "print(\"Columns added by tokenizer:\", tokenizer_columns_source)"
      ]
    },
    {
      "cell_type": "code",
      "execution_count": 21,
      "metadata": {
        "colab": {
          "base_uri": "https://localhost:8080/",
          "height": 393,
          "referenced_widgets": [
            "fe0c49b665ce47f282177316d6efaa52",
            "5522041ed8914978b052f4e475d9d902",
            "ccd644f73bbb4038a9d0957bd057c6fa",
            "e68bfdf503f24ffda0c2e2cca05b60bb",
            "7b6bcea5c40b404788dfdd5be4055a65",
            "d00b814f970e4789ba3dedc7123fd19c",
            "9f0bb0b1e9c0450cbece27d4e28d9535",
            "dba6f6772fa144fe97a3c6bd518fe8ef",
            "369eff7730c943c4871801736e1f6b52",
            "b559de04085846058d5b49ea5cb1ccfb",
            "2cbdb9caf40c41d9b0312ca68994eadc",
            "b053cdfeafc2419dbba4ca8e6321edd8",
            "9c02d019a47d4d528cf1d296d3c5289e",
            "c2f4c1f273fe4634b7b7097b7145a2e5",
            "8f9e9155e34243fb97221b0446815d85",
            "8d062aa9434b4dd2aeeb0e9a6a2f66d2",
            "8a0a507c8c81466cbf4fa030e5c9e6d4",
            "8c650e8a8ecc4cb2a9d70e703f69f146",
            "0bdcc4c5e0ca4c9e88273b0f630188e7",
            "4c51c29fedba4b76911641b0afb152fb",
            "150d59f709e746e180230012e38e4e11",
            "bfb0777213e3475f8225e4e5cb8d8551",
            "01544264993c4c8691eee68d68894426",
            "098407f7f258456ea598c6b1e62d5c83",
            "03b89e4c1ba44d298ff2a8b23d04048a",
            "15c44225687046eaa41aebcc67380857",
            "d3f95411bc714ab89092c955d533796d",
            "1f0c1434bfac453085604cc5120cd8d4",
            "a76a61e38d234f6083f4d9f11b700843",
            "ac99dca394554446a1ca0dadff876347",
            "6f6047ea71124873b9a2f65d1f5dbaa9",
            "b856ed29328f44e8ac8c9c9d3cb31f96",
            "f48691d7e0d74d8c9c3f61b2613a6e42"
          ]
        },
        "id": "xomTB4mqX0Vf",
        "outputId": "6422b0af-3766-4c6f-ce5a-75db4f3a76e2"
      },
      "outputs": [
        {
          "output_type": "display_data",
          "data": {
            "text/plain": [
              "Map:   0%|          | 0/4725 [00:00<?, ? examples/s]"
            ],
            "application/vnd.jupyter.widget-view+json": {
              "version_major": 2,
              "version_minor": 0,
              "model_id": "fe0c49b665ce47f282177316d6efaa52"
            }
          },
          "metadata": {}
        },
        {
          "output_type": "display_data",
          "data": {
            "text/plain": [
              "Map:   0%|          | 0/1440 [00:00<?, ? examples/s]"
            ],
            "application/vnd.jupyter.widget-view+json": {
              "version_major": 2,
              "version_minor": 0,
              "model_id": "b053cdfeafc2419dbba4ca8e6321edd8"
            }
          },
          "metadata": {}
        },
        {
          "output_type": "display_data",
          "data": {
            "text/plain": [
              "Map:   0%|          | 0/1827 [00:00<?, ? examples/s]"
            ],
            "application/vnd.jupyter.widget-view+json": {
              "version_major": 2,
              "version_minor": 0,
              "model_id": "01544264993c4c8691eee68d68894426"
            }
          },
          "metadata": {}
        },
        {
          "output_type": "stream",
          "name": "stdout",
          "text": [
            "DatasetDict({\n",
            "    train: Dataset({\n",
            "        features: ['source_text', 'reply_text', 'label', 'label_number', 'v_p_s', 'v_neg_s', 'v_neu_s', 'v_p_r', 'v_neg_r', 'v_neu_r', 'input_ids', 'attention_mask', 'token_type_ids'],\n",
            "        num_rows: 4725\n",
            "    })\n",
            "    valid: Dataset({\n",
            "        features: ['source_text', 'reply_text', 'label', 'label_number', 'v_p_s', 'v_neg_s', 'v_neu_s', 'v_p_r', 'v_neg_r', 'v_neu_r', 'input_ids', 'attention_mask', 'token_type_ids'],\n",
            "        num_rows: 1440\n",
            "    })\n",
            "    test: Dataset({\n",
            "        features: ['source_text', 'reply_text', 'label', 'label_number', 'v_p_s', 'v_neg_s', 'v_neu_s', 'v_p_r', 'v_neg_r', 'v_neu_r', 'input_ids', 'attention_mask', 'token_type_ids'],\n",
            "        num_rows: 1827\n",
            "    })\n",
            "})\n",
            "Columns added by tokenizer: ['input_ids', 'attention_mask', 'token_type_ids']\n"
          ]
        }
      ],
      "source": [
        "def preprocess_function_reply(records):\n",
        "    tokenized = tokenizer(records['reply_text'], truncation=True,padding='max_length', return_token_type_ids=True, max_length=128)\n",
        "    return {\n",
        "        'input_ids': tokenized['input_ids'],\n",
        "        'attention_mask': tokenized['attention_mask'],\n",
        "        'token_type_ids': tokenized['token_type_ids']\n",
        "    }\n",
        "\n",
        "\n",
        "pre_tokenizer_columns_reply = set(dataset[\"train\"].features)\n",
        "\n",
        "pre_tokenizer_columns_reply\n",
        "\n",
        "encoded_dataset_reply = dataset.map(preprocess_function_reply, batched=True, )\n",
        "\n",
        "print(encoded_dataset_reply)\n",
        "\n",
        "tokenizer_columns_reply = list(set(encoded_dataset_reply[\"train\"].features) - pre_tokenizer_columns_reply)\n",
        "\n",
        "\n",
        "\n",
        "print(\"Columns added by tokenizer:\", tokenizer_columns_reply)"
      ]
    },
    {
      "cell_type": "code",
      "execution_count": 22,
      "metadata": {
        "colab": {
          "base_uri": "https://localhost:8080/"
        },
        "id": "5jgD1S40eAfp",
        "outputId": "655adfad-46e9-4d0f-b5e0-3c7fe1b5a6c2"
      },
      "outputs": [
        {
          "output_type": "stream",
          "name": "stdout",
          "text": [
            "Requirement already satisfied: nlpaug in /usr/local/lib/python3.10/dist-packages (1.1.11)\n",
            "Requirement already satisfied: numpy>=1.16.2 in /usr/local/lib/python3.10/dist-packages (from nlpaug) (1.23.5)\n",
            "Requirement already satisfied: pandas>=1.2.0 in /usr/local/lib/python3.10/dist-packages (from nlpaug) (1.5.3)\n",
            "Requirement already satisfied: requests>=2.22.0 in /usr/local/lib/python3.10/dist-packages (from nlpaug) (2.31.0)\n",
            "Requirement already satisfied: gdown>=4.0.0 in /usr/local/lib/python3.10/dist-packages (from nlpaug) (4.6.6)\n",
            "Requirement already satisfied: filelock in /usr/local/lib/python3.10/dist-packages (from gdown>=4.0.0->nlpaug) (3.13.1)\n",
            "Requirement already satisfied: six in /usr/local/lib/python3.10/dist-packages (from gdown>=4.0.0->nlpaug) (1.16.0)\n",
            "Requirement already satisfied: tqdm in /usr/local/lib/python3.10/dist-packages (from gdown>=4.0.0->nlpaug) (4.66.1)\n",
            "Requirement already satisfied: beautifulsoup4 in /usr/local/lib/python3.10/dist-packages (from gdown>=4.0.0->nlpaug) (4.11.2)\n",
            "Requirement already satisfied: python-dateutil>=2.8.1 in /usr/local/lib/python3.10/dist-packages (from pandas>=1.2.0->nlpaug) (2.8.2)\n",
            "Requirement already satisfied: pytz>=2020.1 in /usr/local/lib/python3.10/dist-packages (from pandas>=1.2.0->nlpaug) (2023.3.post1)\n",
            "Requirement already satisfied: charset-normalizer<4,>=2 in /usr/local/lib/python3.10/dist-packages (from requests>=2.22.0->nlpaug) (3.3.2)\n",
            "Requirement already satisfied: idna<4,>=2.5 in /usr/local/lib/python3.10/dist-packages (from requests>=2.22.0->nlpaug) (3.6)\n",
            "Requirement already satisfied: urllib3<3,>=1.21.1 in /usr/local/lib/python3.10/dist-packages (from requests>=2.22.0->nlpaug) (2.0.7)\n",
            "Requirement already satisfied: certifi>=2017.4.17 in /usr/local/lib/python3.10/dist-packages (from requests>=2.22.0->nlpaug) (2023.11.17)\n",
            "Requirement already satisfied: soupsieve>1.2 in /usr/local/lib/python3.10/dist-packages (from beautifulsoup4->gdown>=4.0.0->nlpaug) (2.5)\n",
            "Requirement already satisfied: PySocks!=1.5.7,>=1.5.6 in /usr/local/lib/python3.10/dist-packages (from requests>=2.22.0->nlpaug) (1.7.1)\n"
          ]
        }
      ],
      "source": [
        "!pip install nlpaug\n",
        "\n",
        "from transformers import DataCollatorWithPadding\n",
        "\n",
        "data_collator = DataCollatorWithPadding(tokenizer=tokenizer, return_tensors=\"tf\")\n",
        "from collections import Counter"
      ]
    },
    {
      "cell_type": "code",
      "execution_count": 23,
      "metadata": {
        "id": "t0wDEuj9SaxO"
      },
      "outputs": [],
      "source": [
        "# import pandas as pd\n",
        "\n",
        "# # Assuming df is your DataFrame\n",
        "# class_counts = train['label'].value_counts()\n",
        "\n",
        "# print(\"Number of occurrences of each class:\")\n",
        "# print(class_counts)\n",
        "\n",
        "\n",
        "\n",
        "batch_size = 32\n",
        "max_length = 128"
      ]
    },
    {
      "cell_type": "code",
      "execution_count": 24,
      "metadata": {
        "id": "DsSgRUtZuE0z"
      },
      "outputs": [],
      "source": [
        "#source\n",
        "input_ids_train_source = np.array(encoded_dataset_source['train']['input_ids'])\n",
        "token_type_ids_train_source = np.array(encoded_dataset_source['train']['token_type_ids'])\n",
        "attention_mask_train_source = np.array(encoded_dataset_source['train']['attention_mask'])\n",
        "v_p_s_train = np.array(encoded_dataset_source['train']['v_p_s'])\n",
        "v_neg_s_train = np.array(encoded_dataset_source['train']['v_neg_s'])\n",
        "v_neu_s_train = np.array(encoded_dataset_source['train']['v_neu_s'])\n",
        "\n",
        "\n",
        "#reply\n",
        "input_ids_train_reply = np.array(encoded_dataset_reply['train']['input_ids'])\n",
        "token_type_ids_train_reply = np.array(encoded_dataset_reply['train']['token_type_ids'])\n",
        "attention_mask_train_reply = np.array(encoded_dataset_reply['train']['attention_mask'])\n",
        "v_p_r_train = np.array(encoded_dataset_reply['train']['v_p_r'])\n",
        "v_neg_r_train = np.array(encoded_dataset_reply['train']['v_neg_r'])\n",
        "v_neu_r_train = np.array(encoded_dataset_reply['train']['v_neu_r'])\n"
      ]
    },
    {
      "cell_type": "code",
      "execution_count": 25,
      "metadata": {
        "id": "7ScH_ZHdsVmY"
      },
      "outputs": [],
      "source": [
        "#source\n",
        "input_ids_valid_source = np.array(encoded_dataset_source['valid']['input_ids'])\n",
        "token_type_ids_valid_source = np.array(encoded_dataset_source['valid']['token_type_ids'])\n",
        "attention_mask_valid_source = np.array(encoded_dataset_source['valid']['attention_mask'])\n",
        "v_p_s_v = np.array(encoded_dataset_source['valid']['v_p_s'])\n",
        "v_neg_s_v = np.array(encoded_dataset_source['valid']['v_neg_s'])\n",
        "v_neu_s_v = np.array(encoded_dataset_source['valid']['v_neu_s'])\n",
        "\n",
        "#reply\n",
        "input_ids_valid_reply = np.array(encoded_dataset_reply['valid']['input_ids'])\n",
        "token_type_ids_valid_reply = np.array(encoded_dataset_reply['valid']['token_type_ids'])\n",
        "attention_mask_valid_reply = np.array(encoded_dataset_reply['valid']['attention_mask'])\n",
        "v_p_r_v = np.array(encoded_dataset_reply['valid']['v_p_r'])\n",
        "v_neg_r_v = np.array(encoded_dataset_reply['valid']['v_neg_r'])\n",
        "v_neu_r_v = np.array(encoded_dataset_reply['valid']['v_neu_r'])"
      ]
    },
    {
      "cell_type": "code",
      "execution_count": 26,
      "metadata": {
        "id": "ESUffFbNYGA1"
      },
      "outputs": [],
      "source": [
        "#source\n",
        "input_ids_test_source = np.array(encoded_dataset_source['test']['input_ids'])\n",
        "token_type_ids_test_source = np.array(encoded_dataset_source['test']['token_type_ids'])\n",
        "attention_mask_test_source = np.array(encoded_dataset_source['test']['attention_mask'])\n",
        "v_p_s_test = np.array(encoded_dataset_source['test']['v_p_s'])\n",
        "v_neg_s_test = np.array(encoded_dataset_source['test']['v_neg_s'])\n",
        "v_neu_s_test = np.array(encoded_dataset_source['test']['v_neu_s'])\n",
        "\n",
        "#reply\n",
        "input_ids_test_reply = np.array(encoded_dataset_reply['test']['input_ids'])\n",
        "token_type_ids_test_reply = np.array(encoded_dataset_reply['test']['token_type_ids'])\n",
        "attention_mask_test_reply = np.array(encoded_dataset_reply['test']['attention_mask'])\n",
        "v_p_r_test = np.array(encoded_dataset_reply['test']['v_p_r'])\n",
        "v_neg_r_test = np.array(encoded_dataset_reply['test']['v_neg_r'])\n",
        "v_neu_r_test = np.array(encoded_dataset_reply['test']['v_neu_r'])"
      ]
    },
    {
      "cell_type": "code",
      "execution_count": 27,
      "metadata": {
        "colab": {
          "base_uri": "https://localhost:8080/"
        },
        "id": "jDYweQ_BfD2_",
        "outputId": "91949734-a23a-4e20-fadd-a4d2c6889256"
      },
      "outputs": [
        {
          "output_type": "execute_result",
          "data": {
            "text/plain": [
              "{'input_ids': <tf.Tensor: shape=(4, 3), dtype=int32, numpy=\n",
              "array([[  101,  1619,   102],\n",
              "       [  101, 15027,   102],\n",
              "       [  101,  9762,   102],\n",
              "       [  101,  7368,   102]], dtype=int32)>, 'token_type_ids': <tf.Tensor: shape=(4, 3), dtype=int32, numpy=\n",
              "array([[0, 0, 0],\n",
              "       [0, 0, 0],\n",
              "       [0, 0, 0],\n",
              "       [0, 0, 0]], dtype=int32)>, 'attention_mask': <tf.Tensor: shape=(4, 3), dtype=int32, numpy=\n",
              "array([[1, 1, 1],\n",
              "       [1, 1, 1],\n",
              "       [1, 1, 1],\n",
              "       [1, 1, 1]], dtype=int32)>}"
            ]
          },
          "metadata": {},
          "execution_count": 27
        }
      ],
      "source": [
        "model_checkpoint2 = \"bert-base-cased\"\n",
        "tokenizer = AutoTokenizer.from_pretrained(model_checkpoint2)\n",
        "labels=  ['support', 'query', 'deny','comment']\n",
        "tokenized_labels=tokenizer(labels,\n",
        "          return_tensors='tf',\n",
        "          return_token_type_ids=True,truncation=True,padding='max_length',  max_length=3)\n",
        "tokenized_labels"
      ]
    },
    {
      "cell_type": "code",
      "execution_count": 28,
      "metadata": {
        "colab": {
          "base_uri": "https://localhost:8080/"
        },
        "id": "Wrcaj_kbg394",
        "outputId": "53cc487a-1237-4d47-ab78-47a422738af6"
      },
      "outputs": [
        {
          "output_type": "stream",
          "name": "stderr",
          "text": [
            "All PyTorch model weights were used when initializing TFBertForSequenceClassification.\n",
            "\n",
            "Some weights or buffers of the TF 2.0 model TFBertForSequenceClassification were not initialized from the PyTorch model and are newly initialized: ['classifier.weight', 'classifier.bias']\n",
            "You should probably TRAIN this model on a down-stream task to be able to use it for predictions and inference.\n"
          ]
        }
      ],
      "source": [
        "max_length = 128\n",
        "from transformers import TFAutoModelForSequenceClassification\n",
        "import tensorflow as tf\n",
        "from tensorflow.keras.layers import Dropout, Dense, Reshape, Bidirectional, GRU, GlobalMaxPooling1D,Flatten,Reshape\n",
        "from tensorflow.keras import Input, Model\n",
        "from tensorflow.keras.optimizers import Nadam\n",
        "from tensorflow.keras.losses import SparseCategoricalCrossentropy\n",
        "from tensorflow.keras.layers import Activation, Multiply, Lambda, Permute\n",
        "from tensorflow.keras import regularizers\n",
        "\n",
        "# Define the BERT model\n",
        "#model_checkpoint = \"bert-base-cased\"\n",
        "model_checkpoint2 = \"bert-base-cased\"\n",
        "\n",
        "model = TFAutoModelForSequenceClassification.from_pretrained(model_checkpoint2)\n",
        "\n",
        "# Get the BERT base model\n",
        "bert_model2 = model.bert\n",
        "\n",
        "from tensorflow.keras.layers import Layer\n",
        "\n",
        "class BERTWrapperLayer(Layer):\n",
        "    def __init__(self, bert_model, **kwargs):\n",
        "        super(BERTWrapperLayer, self).__init__(**kwargs)\n",
        "        self.bert_model = bert_model\n",
        "\n",
        "    def call(self, inputs, **kwargs):\n",
        "        input_ids, token_type_ids, attention_mask = inputs\n",
        "        bert_output = self.bert_model(input_ids, token_type_ids=token_type_ids, attention_mask=attention_mask)\n",
        "        return bert_output.last_hidden_state\n",
        "bert_last_hidden_state_labels = BERTWrapperLayer(bert_model2)([tokenized_labels['input_ids'],tokenized_labels['token_type_ids'], tokenized_labels[\"attention_mask\"]])"
      ]
    },
    {
      "cell_type": "code",
      "execution_count": 29,
      "metadata": {
        "id": "lm3kUFdfjqVJ"
      },
      "outputs": [],
      "source": [
        "arr1 = bert_last_hidden_state_labels\n",
        "arr2 = np.mean(arr1, axis=1)"
      ]
    },
    {
      "cell_type": "code",
      "execution_count": 30,
      "metadata": {
        "colab": {
          "base_uri": "https://localhost:8080/"
        },
        "id": "o138XthZSVS8",
        "outputId": "9be464d0-bee2-490b-c0f5-0ceb2c2c408f"
      },
      "outputs": [
        {
          "output_type": "execute_result",
          "data": {
            "text/plain": [
              "(4, 768)"
            ]
          },
          "metadata": {},
          "execution_count": 30
        }
      ],
      "source": [
        "arr2.shape"
      ]
    },
    {
      "cell_type": "code",
      "execution_count": 31,
      "metadata": {
        "colab": {
          "base_uri": "https://localhost:8080/"
        },
        "id": "jULU0DDvSrTP",
        "outputId": "2001d03c-c45a-446d-dd2b-0961d055e0e0"
      },
      "outputs": [
        {
          "output_type": "stream",
          "name": "stderr",
          "text": [
            "Some weights of the PyTorch model were not used when initializing the TF 2.0 model TFRobertaForSequenceClassification: ['roberta.embeddings.position_ids']\n",
            "- This IS expected if you are initializing TFRobertaForSequenceClassification from a PyTorch model trained on another task or with another architecture (e.g. initializing a TFBertForSequenceClassification model from a BertForPreTraining model).\n",
            "- This IS NOT expected if you are initializing TFRobertaForSequenceClassification from a PyTorch model that you expect to be exactly identical (e.g. initializing a TFBertForSequenceClassification model from a BertForSequenceClassification model).\n",
            "Some weights or buffers of the TF 2.0 model TFRobertaForSequenceClassification were not initialized from the PyTorch model and are newly initialized: ['classifier.dense.weight', 'classifier.dense.bias', 'classifier.out_proj.weight', 'classifier.out_proj.bias']\n",
            "You should probably TRAIN this model on a down-stream task to be able to use it for predictions and inference.\n"
          ]
        }
      ],
      "source": [
        "# Pass your input through the BERT model wrapper\n",
        "input_ids_source = Input(shape=(max_length,), dtype=tf.int32, name=\"input_ids_source\")\n",
        "token_type_ids_source = Input(shape=(max_length,), dtype=tf.int32, name=\"token_type_ids_source\")\n",
        "attention_mask_source = Input(shape=(max_length,), dtype=tf.int32, name=\"attention_mask_source\")\n",
        "input_ids_reply = Input(shape=(max_length,), dtype=tf.int32, name=\"input_ids_reply\")\n",
        "token_type_ids_reply = Input(shape=(max_length,), dtype=tf.int32, name=\"token_type_ids_reply\")\n",
        "attention_mask_reply = Input(shape=(max_length,), dtype=tf.int32, name=\"attention_mask_reply\")\n",
        "arr2_input = Input(shape=(4,768), dtype=tf.float32, name=\"arr2_input\")\n",
        "v_p_s = Input(shape=(1,), dtype=tf.float32, name=\"v_p_s\")\n",
        "v_neg_s = Input(shape=(1,), dtype=tf.float32, name=\"v_neg_s\")\n",
        "v_neu_s = Input(shape=(1,), dtype=tf.float32, name=\"v_neu_s\")\n",
        "v_p_r = Input(shape=(1,), dtype=tf.float32, name=\"v_p_r\")\n",
        "v_neg_r = Input(shape=(1,), dtype=tf.float32, name=\"v_neg_r\")\n",
        "v_neu_r = Input(shape=(1,), dtype=tf.float32, name=\"v_neu_r\")\n",
        "# Pass your input through the BERT model wrapper\n",
        "\n",
        "model = TFAutoModelForSequenceClassification.from_pretrained(model_checkpoint)\n",
        "roberta_model=model.roberta\n",
        "\n",
        "#deberta_pooler_output, deberta_last_hidden_state = DeBERTaWrapperLayer(deberta_model)([input_ids, attention_mask])\n",
        "roberta_last_hidden_state_source = BERTWrapperLayer(roberta_model)([input_ids_source,token_type_ids_source, attention_mask_source])\n",
        "roberta_last_hidden_state_reply = BERTWrapperLayer(roberta_model)([input_ids_reply,token_type_ids_reply, attention_mask_reply])"
      ]
    },
    {
      "cell_type": "code",
      "execution_count": 32,
      "metadata": {
        "colab": {
          "base_uri": "https://localhost:8080/"
        },
        "id": "pbFEd7YfvVw1",
        "outputId": "83445d64-19ef-439f-8296-f8e67fb42378"
      },
      "outputs": [
        {
          "output_type": "execute_result",
          "data": {
            "text/plain": [
              "<KerasTensor: shape=(None, 128, 768) dtype=float32 (created by layer 'bert_wrapper_layer_1')>"
            ]
          },
          "metadata": {},
          "execution_count": 32
        }
      ],
      "source": [
        "roberta_last_hidden_state_source"
      ]
    },
    {
      "cell_type": "code",
      "execution_count": 33,
      "metadata": {
        "id": "Y2GBiNHPvdR_"
      },
      "outputs": [],
      "source": [
        "pooler_output_source = tf.reduce_mean(roberta_last_hidden_state_source, axis=1)\n",
        "pooler_output_reply = tf.reduce_mean(roberta_last_hidden_state_reply, axis=1)"
      ]
    },
    {
      "cell_type": "code",
      "execution_count": 34,
      "metadata": {
        "colab": {
          "base_uri": "https://localhost:8080/"
        },
        "id": "_7fFQ2rI8DFA",
        "outputId": "b6d783e9-a755-4673-e33c-82c744a7fb6e"
      },
      "outputs": [
        {
          "output_type": "stream",
          "name": "stdout",
          "text": [
            "First Dimension of source: KerasTensor(type_spec=TensorSpec(shape=(None, 768), dtype=tf.float32, name=None), name='tf.__operators__.getitem/strided_slice:0', description=\"created by layer 'tf.__operators__.getitem'\")\n",
            "Rest of the Dimensions of source: KerasTensor(type_spec=TensorSpec(shape=(None, 127, 768), dtype=tf.float32, name=None), name='tf.__operators__.getitem_1/strided_slice:0', description=\"created by layer 'tf.__operators__.getitem_1'\")\n",
            "First Dimension of reply: KerasTensor(type_spec=TensorSpec(shape=(None, 768), dtype=tf.float32, name=None), name='tf.__operators__.getitem_2/strided_slice:0', description=\"created by layer 'tf.__operators__.getitem_2'\")\n",
            "Rest of the Dimensions of reply: KerasTensor(type_spec=TensorSpec(shape=(None, 127, 768), dtype=tf.float32, name=None), name='tf.__operators__.getitem_3/strided_slice:0', description=\"created by layer 'tf.__operators__.getitem_3'\")\n"
          ]
        }
      ],
      "source": [
        "sliced_cls_source = roberta_last_hidden_state_source[:, 0]\n",
        "\n",
        "# Slice the rest of the dimensions\n",
        "cls_rest_of_dimension_source = roberta_last_hidden_state_source[:, 1:]\n",
        "\n",
        "# Print or use the sliced outputs\n",
        "print(\"First Dimension of source:\", sliced_cls_source)\n",
        "\n",
        "print(\"Rest of the Dimensions of source:\", cls_rest_of_dimension_source)\n",
        "\n",
        "\n",
        "sliced_cls_reply = roberta_last_hidden_state_reply[:, 0]\n",
        "\n",
        "# Slice the rest of the dimensions\n",
        "cls_rest_of_dimension_reply = roberta_last_hidden_state_reply[:, 1:]\n",
        "\n",
        "# Print or use the sliced outputs\n",
        "print(\"First Dimension of reply:\", sliced_cls_reply)\n",
        "\n",
        "print(\"Rest of the Dimensions of reply:\", cls_rest_of_dimension_reply)"
      ]
    },
    {
      "cell_type": "code",
      "execution_count": 35,
      "metadata": {
        "colab": {
          "base_uri": "https://localhost:8080/"
        },
        "id": "JX9FSzWy8qeD",
        "outputId": "8e3b6d0f-0f52-4821-9328-770585079f09"
      },
      "outputs": [
        {
          "output_type": "execute_result",
          "data": {
            "text/plain": [
              "<KerasTensor: shape=(None, 768) dtype=float32 (created by layer 'tf.math.abs')>"
            ]
          },
          "metadata": {},
          "execution_count": 35
        }
      ],
      "source": [
        "difference_cls = tf.abs(sliced_cls_source - sliced_cls_reply)\n",
        "difference_cls"
      ]
    },
    {
      "cell_type": "code",
      "execution_count": 36,
      "metadata": {
        "colab": {
          "base_uri": "https://localhost:8080/"
        },
        "id": "Zn0F9RqKK7D6",
        "outputId": "8e273f0e-35d4-4771-ef11-03ce5803a174"
      },
      "outputs": [
        {
          "output_type": "execute_result",
          "data": {
            "text/plain": [
              "<KerasTensor: shape=(None, 512) dtype=float32 (created by layer 'dense')>"
            ]
          },
          "metadata": {},
          "execution_count": 36
        }
      ],
      "source": [
        "normalized_difference = tf.math.l2_normalize(difference_cls, axis=1)\n",
        "dense_layer1 = tf.keras.layers.Dense(units=512, activation='Softmax')\n",
        "# dense_layer2 = tf.keras.layers.Dense(units=256, activation='Softmax')\n",
        "\n",
        "# # Apply the dense layer to the normalized difference\n",
        "normalized_difference1 = dense_layer1(normalized_difference)\n",
        "# output2 = dense_layer2(output1)\n",
        "normalized_difference1\n",
        "# output2"
      ]
    },
    {
      "cell_type": "code",
      "execution_count": 37,
      "metadata": {
        "id": "DUexPab1YZeL"
      },
      "outputs": [],
      "source": [
        "# layer = MultiHeadAttention(num_heads=2, key_dim=2)\n",
        "# cross_attention_reply = layer(roberta_last_hidden_state_reply, roberta_last_hidden_state_reply)\n",
        "# print(cross_attention_reply.shape)"
      ]
    },
    {
      "cell_type": "code",
      "execution_count": 38,
      "metadata": {
        "id": "9g8JvGJ4oJ1J"
      },
      "outputs": [],
      "source": [
        "# layer = MultiHeadAttention(num_heads=2, key_dim=2)\n",
        "# cross_attention_source = layer(roberta_last_hidden_state_reply, roberta_last_hidden_state_source)\n",
        "# print(cross_attention_source.shape)"
      ]
    },
    {
      "cell_type": "code",
      "execution_count": 39,
      "metadata": {
        "id": "Lcxg6vWgowcj"
      },
      "outputs": [],
      "source": [
        "# import tensorflow as tf\n",
        "\n",
        "# class CrossAttentionLayer(tf.keras.layers.Layer):\n",
        "#     def __init__(self, embed_size, num_heads):\n",
        "#         super(CrossAttentionLayer, self).__init__()\n",
        "#         self.num_heads = num_heads\n",
        "#         self.embed_size = embed_size\n",
        "\n",
        "#         # Query, Key, and Value weight matrices\n",
        "#         self.WQ = tf.keras.layers.Dense(embed_size)\n",
        "#         self.WK = tf.keras.layers.Dense(embed_size)\n",
        "#         self.WV = tf.keras.layers.Dense(embed_size)\n",
        "\n",
        "#         # Output weight matrix\n",
        "#         self.WO = tf.keras.layers.Dense(embed_size)\n",
        "\n",
        "#     def scaled_dot_product_attention(self, Q, K, V):\n",
        "#         matmul_qk = tf.matmul(Q, K, transpose_b=True)\n",
        "#         dk = tf.cast(tf.shape(K)[-1], tf.float32)\n",
        "#         scaled_attention_logits = matmul_qk / tf.math.sqrt(dk)\n",
        "#         attention_weights = tf.nn.softmax(scaled_attention_logits, axis=-1)\n",
        "#         output = tf.matmul(attention_weights, V)\n",
        "#         return output, attention_weights\n",
        "\n",
        "#     def split_heads(self, x, batch_size):\n",
        "#         x = tf.reshape(x, (batch_size, -1, self.num_heads, self.embed_size // self.num_heads))\n",
        "#         return tf.transpose(x, perm=[0, 2, 1, 3])\n",
        "\n",
        "#     def call(self, inputs):\n",
        "#         query, key, value = inputs\n",
        "\n",
        "#         batch_size = tf.shape(query)[0]\n",
        "\n",
        "#         # Linear projections\n",
        "#         query = self.WQ(query)\n",
        "#         key = self.WK(key)\n",
        "#         value = self.WV(value)\n",
        "\n",
        "#         # Split heads\n",
        "#         query = self.split_heads(query, batch_size)\n",
        "#         key = self.split_heads(key, batch_size)\n",
        "#         value = self.split_heads(value, batch_size)\n",
        "\n",
        "#         # Scaled Dot-Product Attention\n",
        "#         scaled_attention, attention_weights = self.scaled_dot_product_attention(query, key, value)\n",
        "\n",
        "#         # Merge heads\n",
        "#         scaled_attention = tf.transpose(scaled_attention, perm=[0, 2, 1, 3])\n",
        "#         concat_attention = tf.reshape(scaled_attention, (batch_size, -1, self.embed_size))\n",
        "\n",
        "#         # Linear projection\n",
        "#         output = self.WO(concat_attention)\n",
        "\n",
        "#         return output, attention_weights\n",
        "\n",
        "# # Example usage\n",
        "# seq_len = 128\n",
        "# batch_size = 32\n",
        "# embed_size = 256\n",
        "# num_heads = 8\n",
        "\n",
        "# cross_attention_layer = CrossAttentionLayer(embed_size, num_heads)\n",
        "\n",
        "# # Dummy input tensors\n",
        "# input_query = roberta_last_hidden_state_source\n",
        "# input_key = roberta_last_hidden_state_reply\n",
        "# input_value = roberta_last_hidden_state_source\n",
        "\n",
        "# # Apply cross-attention\n",
        "# cross_attention_source_output, attention_weights = cross_attention_layer([input_query, input_key, input_value])\n",
        "\n",
        "# print(\"Input Query Shape:\", input_query.shape)\n",
        "# print(\"Output Shape:\", cross_attention_source_output.shape)\n",
        "# print(\"Attention Weights Shape:\", attention_weights.shape)\n"
      ]
    },
    {
      "cell_type": "code",
      "execution_count": 40,
      "metadata": {
        "colab": {
          "base_uri": "https://localhost:8080/"
        },
        "id": "9diwootLx8f1",
        "outputId": "ec23d297-7a44-4658-ae22-90a305e2ef10"
      },
      "outputs": [
        {
          "output_type": "stream",
          "name": "stdout",
          "text": [
            "Input Query Shape: (None, 128, 768)\n",
            "Output Shape: [None, 128, 256]\n"
          ]
        }
      ],
      "source": [
        "import tensorflow as tf\n",
        "\n",
        "class CrossAttentionLayer(tf.keras.layers.Layer):\n",
        "    def __init__(self, embed_size, num_heads):\n",
        "        super(CrossAttentionLayer, self).__init__()\n",
        "        self.num_heads = num_heads\n",
        "        self.embed_size = embed_size\n",
        "\n",
        "        # Query, Key, and Value weight matrices\n",
        "        self.WQS = tf.keras.layers.Dense(embed_size)\n",
        "        self.WKS = tf.keras.layers.Dense(embed_size)\n",
        "        self.WVS = tf.keras.layers.Dense(embed_size)\n",
        "\n",
        "        self.WQR = tf.keras.layers.Dense(embed_size)\n",
        "        self.WKR = tf.keras.layers.Dense(embed_size)\n",
        "        self.WVR = tf.keras.layers.Dense(embed_size)\n",
        "\n",
        "        # Output weight matrix\n",
        "        self.WOS = tf.keras.layers.Dense(embed_size)\n",
        "        self.WOR = tf.keras.layers.Dense(embed_size)\n",
        "\n",
        "    def scaled_dot_product_attention(self, Q, K, V):\n",
        "        matmul_qk = tf.matmul(Q, K, transpose_b=True)\n",
        "        dk = tf.cast(tf.shape(K)[-1], tf.float32)\n",
        "        scaled_attention_logits = matmul_qk / tf.math.sqrt(dk)\n",
        "        attention_weights = tf.nn.softmax(scaled_attention_logits, axis=-1)\n",
        "        output = tf.matmul(attention_weights, V)\n",
        "        return output, attention_weights\n",
        "\n",
        "    def split_heads(self, x, batch_size):\n",
        "        x = tf.reshape(x, (batch_size, -1, self.num_heads, self.embed_size // self.num_heads))\n",
        "        return tf.transpose(x, perm=[0, 2, 1, 3])\n",
        "\n",
        "    def call(self, inputs):\n",
        "        source, reply = inputs\n",
        "\n",
        "        query_s = source\n",
        "        query_r = reply\n",
        "\n",
        "        value_s = source\n",
        "        value_r = reply\n",
        "\n",
        "        key_s = reply\n",
        "        key_r = source\n",
        "\n",
        "        batch_size = tf.shape(query_s)[0]\n",
        "\n",
        "        # Linear projections\n",
        "        query_s = self.WQS(query_s)\n",
        "        key_s = self.WKS(key_s)\n",
        "        value_s = self.WVS(value_s)\n",
        "\n",
        "        query_r = self.WQR(query_r)\n",
        "        key_r = self.WKR(key_r)\n",
        "        value_r = self.WVR(value_r)\n",
        "\n",
        "        # Split heads\n",
        "        query_s = self.split_heads(query_s, batch_size)\n",
        "        key_s = self.split_heads(key_s, batch_size)\n",
        "        value_s = self.split_heads(value_s, batch_size)\n",
        "\n",
        "        query_r = self.split_heads(query_r, batch_size)\n",
        "        key_r = self.split_heads(key_r, batch_size)\n",
        "        value_r = self.split_heads(value_r, batch_size)\n",
        "\n",
        "        # Scaled Dot-Product Attention\n",
        "        scaled_attention_s, attention_weights_s = self.scaled_dot_product_attention(query_s, key_s, value_s)\n",
        "        #print(scaled_attention_s)\n",
        "        scaled_attention_r, attention_weights_r = self.scaled_dot_product_attention(query_r, key_r, value_r)\n",
        "\n",
        "        # Merge heads\n",
        "        scaled_attention_s = tf.transpose(scaled_attention_s, perm=[0, 2, 1, 3])\n",
        "        #print(scaled_attention_s)\n",
        "        concat_attention_s = tf.reshape(scaled_attention_s, (batch_size, seq_len, self.embed_size))\n",
        "        #print(concat_attention_s )\n",
        "\n",
        "        scaled_attention_r = tf.transpose(scaled_attention_r, perm=[0, 2, 1, 3])\n",
        "        concat_attention_r = tf.reshape(scaled_attention_r, (batch_size, seq_len, self.embed_size))\n",
        "\n",
        "        # Linear projection\n",
        "        output_s = self.WOS(concat_attention_s)\n",
        "        output_r = self.WOR(concat_attention_r)\n",
        "\n",
        "        return output_s, output_r\n",
        "\n",
        "# Example usage\n",
        "seq_len = 128\n",
        "batch_size = 32\n",
        "embed_size = 256\n",
        "num_heads = 8\n",
        "\n",
        "cross_attention_layer = CrossAttentionLayer(embed_size, num_heads)\n",
        "\n",
        "# Dummy input tensors\n",
        "input_query = roberta_last_hidden_state_reply\n",
        "input_key = roberta_last_hidden_state_source\n",
        "input_value = roberta_last_hidden_state_reply\n",
        "\n",
        "# Apply cross-attention\n",
        "cross_attention_source_output, cross_attention_reply_output = cross_attention_layer([roberta_last_hidden_state_source, roberta_last_hidden_state_reply])\n",
        "\n",
        "print(\"Input Query Shape:\", input_query.shape)\n",
        "print(\"Output Shape:\", cross_attention_reply_output.shape.as_list())\n",
        "#print(\"Attention Weights Shape:\", attention_weights.shape)\n"
      ]
    },
    {
      "cell_type": "code",
      "execution_count": 41,
      "metadata": {
        "id": "QKwI1OThyEJL"
      },
      "outputs": [],
      "source": [
        "#word attention on source\n",
        "word_embeddings = cross_attention_source_output\n",
        "\n",
        "# Apply word-level attention\n",
        "word_attention_scores = Dense(1, activation='relu')(word_embeddings)\n",
        "word_attention_scores\n",
        "word_attention_scores = Reshape((-1,))(word_attention_scores)\n",
        "word_attention_weights = Activation('softmax')(word_attention_scores)\n",
        "word_attention_weights = Reshape((-1, 1))(word_attention_weights)\n",
        "\n",
        "# Tile the attention weights to match the dimensions of word_embeddings\n",
        "word_attention_weights = Lambda(lambda x: tf.tile(x, [1, 1, 256]))(word_attention_weights)\n",
        "\n",
        "# Apply element-wise multiplication between word embeddings and attention weights\n",
        "word_attention = Multiply()([word_embeddings, word_attention_weights])\n",
        "\n",
        "# Sum up the word-level representations\n",
        "word_attention_sum_source = Lambda(lambda x: tf.reduce_sum(x, axis=1))(word_attention)"
      ]
    },
    {
      "cell_type": "code",
      "execution_count": 42,
      "metadata": {
        "id": "fND8NcyByJxz"
      },
      "outputs": [],
      "source": [
        "#word attention on reply\n",
        "word_embeddings = cross_attention_reply_output\n",
        "\n",
        "# Apply word-level attention\n",
        "word_attention_scores = Dense(1, activation='relu')(word_embeddings)\n",
        "word_attention_scores\n",
        "word_attention_scores = Reshape((-1,))(word_attention_scores)\n",
        "word_attention_weights = Activation('softmax')(word_attention_scores)\n",
        "word_attention_weights = Reshape((-1, 1))(word_attention_weights)\n",
        "\n",
        "# Tile the attention weights to match the dimensions of word_embeddings\n",
        "word_attention_weights = Lambda(lambda x: tf.tile(x, [1, 1, 256]))(word_attention_weights)\n",
        "\n",
        "# Apply element-wise multiplication between word embeddings and attention weights\n",
        "word_attention = Multiply()([word_embeddings, word_attention_weights])\n",
        "\n",
        "# Sum up the word-level representations\n",
        "word_attention_sum_reply = Lambda(lambda x: tf.reduce_sum(x, axis=1))(word_attention)"
      ]
    },
    {
      "cell_type": "code",
      "execution_count": 43,
      "metadata": {
        "colab": {
          "base_uri": "https://localhost:8080/"
        },
        "id": "0FtMTjQs2rJs",
        "outputId": "f920fd33-3edd-4029-80f3-c6702270021d"
      },
      "outputs": [
        {
          "output_type": "execute_result",
          "data": {
            "text/plain": [
              "<KerasTensor: shape=(None, 256) dtype=float32 (created by layer 'lambda_3')>"
            ]
          },
          "metadata": {},
          "execution_count": 43
        }
      ],
      "source": [
        "word_attention_sum_reply"
      ]
    },
    {
      "cell_type": "code",
      "execution_count": 44,
      "metadata": {
        "id": "ogMHqoKjyLyE"
      },
      "outputs": [],
      "source": [
        "#concat word attentions with embeddings difference\n",
        "combined_representation_cross_attention_embedding_diff = tf.concat([word_attention_sum_source, word_attention_sum_reply,normalized_difference1], axis=1)"
      ]
    },
    {
      "cell_type": "code",
      "execution_count": 45,
      "metadata": {
        "colab": {
          "base_uri": "https://localhost:8080/"
        },
        "id": "1O-Lu6ozyzAs",
        "outputId": "aba71be7-48bb-4317-8c68-2549ea287872"
      },
      "outputs": [
        {
          "output_type": "execute_result",
          "data": {
            "text/plain": [
              "<KerasTensor: shape=(None, 1024) dtype=float32 (created by layer 'tf.concat')>"
            ]
          },
          "metadata": {},
          "execution_count": 45
        }
      ],
      "source": [
        "combined_representation_cross_attention_embedding_diff"
      ]
    },
    {
      "cell_type": "code",
      "execution_count": 47,
      "metadata": {
        "id": "n48H-kXZ8UGr"
      },
      "outputs": [],
      "source": [
        "# soln_AbSCA = AbSCA(num_agents=1, max_iter=1, train_data=combined_representation_cross_attention_embedding_diff, train_label=train_labels)"
      ]
    },
    {
      "cell_type": "code",
      "execution_count": 48,
      "metadata": {
        "id": "EC7u8LFOyqZC"
      },
      "outputs": [],
      "source": [
        "# Add BiGRU layers for word-level attention\n",
        "gru_units = 64\n",
        "dropout_rate = 0.2\n",
        "\n",
        "output = Reshape((-1, gru_units))(combined_representation_cross_attention_embedding_diff)\n",
        "output = Bidirectional(GRU(gru_units, return_sequences=True))(output)\n",
        "output = Dropout(dropout_rate)(output)\n",
        "output = Bidirectional(GRU(gru_units, kernel_regularizer=regularizers.l2(0.01), return_sequences=True))(output)\n",
        "output = Dropout(dropout_rate)(output)\n",
        "\n",
        "# Apply sentence-level attention\n",
        "sentence_attention_scores = Dense(1, activation='relu')(output)\n",
        "sentence_attention_scores = Reshape((-1,))(sentence_attention_scores)\n",
        "sentence_attention_weights = Activation('softmax')(sentence_attention_scores)\n",
        "sentence_attention_weights = Reshape((-1, 1))(sentence_attention_weights)\n",
        "\n",
        "# Tile the attention weights to match the dimensions of output\n",
        "sentence_attention_weights = Lambda(lambda x: tf.tile(x, [1, 1, 2 * gru_units]))(sentence_attention_weights)\n",
        "\n",
        "# Apply element-wise multiplication between output and attention weights\n",
        "sentence_attention = Multiply()([output, sentence_attention_weights])\n",
        "\n",
        "# Sum up the sentence-level representations\n",
        "sentence_attention_sum = Lambda(lambda x: tf.reduce_sum(x, axis=1))(sentence_attention)\n",
        "\n",
        "# Apply global max pooling to capture the most important features\n",
        "sentence_attention_pooling = GlobalMaxPooling1D()(sentence_attention)\n",
        "\n",
        "combined_representation = tf.concat([sentence_attention_sum, sentence_attention_pooling], axis=1)\n",
        "flat_labels=Flatten()(arr2_input)\n",
        "dense_layer = tf.keras.layers.Dense(256, activation='relu')(flat_labels)\n",
        "model1 = Model(inputs= [input_ids_source,token_type_ids_source,attention_mask_source,input_ids_reply,token_type_ids_reply,attention_mask_reply],outputs=[combined_representation])\n",
        "dense_layer\n",
        "dot_product=tf.keras.layers.Dot(axes=1)([model1.output, dense_layer])\n",
        "#dot_product = tf.matmul(modelctR, dense_layer, transpose_b=True)\n",
        "\n",
        "# Add dropout regularization after the hierarchical attention layer\n",
        "combined_representation = tf.concat([model1.output,v_p_s,v_neg_s,v_neu_s,v_p_r,v_neg_r,v_neu_r,dot_product], axis=1)\n",
        "# combined_representation = tf.concat([model1.output,dot_product], axis=1)"
      ]
    },
    {
      "cell_type": "code",
      "execution_count": 49,
      "metadata": {
        "colab": {
          "base_uri": "https://localhost:8080/"
        },
        "id": "KTKV1_h4Uzlr",
        "outputId": "04a2f092-1483-4ece-af4e-f6a788ae0c65"
      },
      "outputs": [
        {
          "output_type": "execute_result",
          "data": {
            "text/plain": [
              "<KerasTensor: shape=(None, 1) dtype=float32 (created by layer 'dot')>"
            ]
          },
          "metadata": {},
          "execution_count": 49
        }
      ],
      "source": [
        "dot_product"
      ]
    },
    {
      "cell_type": "code",
      "execution_count": 50,
      "metadata": {
        "colab": {
          "base_uri": "https://localhost:8080/"
        },
        "id": "LB7rTJ-9UhsB",
        "outputId": "5b76055f-89d2-47cc-fcf4-abac852f4bc9"
      },
      "outputs": [
        {
          "output_type": "execute_result",
          "data": {
            "text/plain": [
              "<KerasTensor: shape=(None, 256) dtype=float32 (created by layer 'tf.concat_1')>"
            ]
          },
          "metadata": {},
          "execution_count": 50
        }
      ],
      "source": [
        "model1.output"
      ]
    },
    {
      "cell_type": "code",
      "execution_count": 51,
      "metadata": {
        "id": "tXcxF3sr8c1J"
      },
      "outputs": [],
      "source": [
        "output = Dropout(dropout_rate)(combined_representation)\n",
        "\n",
        "# Add the final dense layer\n",
        "output_units = 4\n",
        "output = Dense(output_units, activation=\"softmax\")(output)\n",
        "#output = BatchNormalization()(output)\n",
        "# Create a new model with the modified architecture\n",
        "modified_model = Model(inputs=[model1.input,v_p_s,v_neg_s,v_neu_s,v_p_r,v_neg_r,v_neu_r,arr2_input], outputs=output)\n",
        "#modified_model = Model(inputs=[model1.input,arr2_input], outputs=output)\n",
        "\n",
        "# Define the optimizer\n",
        "learning_rate = 2e-5\n",
        "optimizer = Nadam(learning_rate=learning_rate)\n",
        "\n",
        "# Define the loss function\n",
        "loss = SparseCategoricalCrossentropy(from_logits=False)\n",
        "#CategoricalCrossentropy\n",
        "num_epochs = 6"
      ]
    },
    {
      "cell_type": "code",
      "execution_count": 52,
      "metadata": {
        "id": "T7FHKgb4xLIH"
      },
      "outputs": [],
      "source": [
        "# Compile the model\n",
        "modified_model.compile(optimizer=optimizer, loss=loss, metrics=[\"accuracy\"])"
      ]
    },
    {
      "cell_type": "code",
      "execution_count": 53,
      "metadata": {
        "colab": {
          "base_uri": "https://localhost:8080/"
        },
        "id": "fn8FKzhMcw_v",
        "outputId": "c00a9201-f458-44f7-fa28-f2bade244384"
      },
      "outputs": [
        {
          "output_type": "execute_result",
          "data": {
            "text/plain": [
              "(1440, 4, 768)"
            ]
          },
          "metadata": {},
          "execution_count": 53
        }
      ],
      "source": [
        "replicated_array_train = np.tile(arr2, (len(encoded_dataset_reply[\"train\"]), 1,1))\n",
        "replicated_array_val = np.tile(arr2, (len(encoded_dataset_reply[\"valid\"]), 1,1))\n",
        "replicated_array_val.shape"
      ]
    },
    {
      "cell_type": "code",
      "source": [
        "from tensorflow.keras.callbacks import ModelCheckpoint\n",
        "\n",
        "# Define a checkpoint callback\n",
        "#checkpoint_filepath = 'best_weights'\n",
        "#model_checkpoint = ModelCheckpoint(checkpoint_filepath, save_best_only=True, monitor='val_accuracy', mode='max', save_format='tf', verbose=1)\n",
        "\n",
        "\n",
        "# X and label_train remain the same as in your code\n",
        "X = [input_ids_train_source,token_type_ids_train_source, attention_mask_train_source,input_ids_train_reply,token_type_ids_train_reply, attention_mask_train_reply,v_p_s_train,v_neg_s_train,v_neu_s_train,v_p_r_train,v_neg_r_train,v_neu_r_train,replicated_array_train]\n",
        "label_train = np.asarray(encoded_dataset_source['train'][\"label_number\"]).astype(np.float32)\n",
        "label_val = np.asarray(encoded_dataset_source['valid'][\"label_number\"]).astype(np.float32)\n",
        "\n",
        "# Train the modified model with the checkpoint callback\n",
        "modified_model.fit(X, label_train,validation_data=([input_ids_valid_source, token_type_ids_valid_source, attention_mask_valid_source,input_ids_valid_reply, token_type_ids_valid_reply,attention_mask_valid_reply,v_p_s_v, v_neg_s_v, v_neu_s_v ,v_p_r_v, v_neg_r_v, v_neu_r_v,replicated_array_val], label_val),epochs=num_epochs, batch_size=16)\n",
        "\n",
        "# Load the best weights\n",
        "#modified_model.load_weights(checkpoint_filepath)\n",
        "\n",
        "# Now you can use the modified_model for testing or further evaluation\n",
        "# modified_model.evaluate(test_data, test_labels)\n"
      ],
      "metadata": {
        "id": "eLCExHJDGsd0"
      },
      "execution_count": null,
      "outputs": []
    },
    {
      "cell_type": "code",
      "execution_count": null,
      "metadata": {
        "colab": {
          "base_uri": "https://localhost:8080/"
        },
        "id": "dgAnsOM5xOjT",
        "outputId": "d0afed14-a7d4-4a10-c0a5-0b6acc1006e7"
      },
      "outputs": [
        {
          "output_type": "stream",
          "name": "stdout",
          "text": [
            "Epoch 1/6\n",
            "  2/296 [..............................] - ETA: 2:23:42 - loss: 4.3497 - accuracy: 0.5312 "
          ]
        }
      ],
      "source": [
        "from tensorflow.keras.callbacks import ModelCheckpoint\n",
        "\n",
        "# Define a checkpoint callback\n",
        "checkpoint_filepath = 'best_weights'\n",
        "model_checkpoint = ModelCheckpoint(checkpoint_filepath, save_best_only=True, monitor='val_accuracy', mode='max', save_format='tf', verbose=1)\n",
        "\n",
        "# X and label_train remain the same as in your code\n",
        "X = [input_ids_train_source,token_type_ids_train_source, attention_mask_train_source,input_ids_train_reply,token_type_ids_train_reply, attention_mask_train_reply,v_p_s_train,v_neg_s_train,v_neu_s_train,v_p_r_train,v_neg_r_train,v_neu_r_train,replicated_array_train]\n",
        "label_train = np.asarray(encoded_dataset_source['train'][\"label_number\"]).astype(np.float32)\n",
        "label_val = np.asarray(encoded_dataset_source['valid'][\"label_number\"]).astype(np.float32)\n",
        "\n",
        "# Train the modified model with the checkpoint callback\n",
        "modified_model.fit(X, label_train,validation_data=([input_ids_valid_source, token_type_ids_valid_source, attention_mask_valid_source,input_ids_valid_reply, token_type_ids_valid_reply,attention_mask_valid_reply,v_p_s_v, v_neg_s_v, v_neu_s_v ,v_p_r_v, v_neg_r_v, v_neu_r_v,replicated_array_val], label_val),epochs=num_epochs, batch_size=16,callbacks=[model_checkpoint])\n",
        "\n",
        "# Load the best weights\n",
        "modified_model.load_weights(checkpoint_filepath)\n",
        "\n",
        "# Now you can use the modified_model for testing or further evaluation\n",
        "# modified_model.evaluate(test_data, test_labels)\n"
      ]
    },
    {
      "cell_type": "code",
      "source": [
        "arr2_input_test = Input(shape=(512,), dtype=tf.float32, name=\"arr2_input_test\")"
      ],
      "metadata": {
        "id": "LeRYBVLLCUsA"
      },
      "execution_count": null,
      "outputs": []
    },
    {
      "cell_type": "code",
      "execution_count": null,
      "metadata": {
        "id": "hdEr-3uKswln"
      },
      "outputs": [],
      "source": [
        "replicated_array_test = np.tile(arr2, (len(encoded_dataset_reply[\"test\"]), 1,1))"
      ]
    },
    {
      "cell_type": "code",
      "execution_count": null,
      "metadata": {
        "id": "QTB_3GIVSw9o"
      },
      "outputs": [],
      "source": [
        "# Evaluate the model on the test dataset\n",
        "#X_test = [input_ids_test_source,token_type_ids_test_source, attention_mask_test_source,input_ids_test_reply,token_type_ids_test_reply, attention_mask_test_reply,v_p_s_test,v_neg_s_test,v_neu_s_test,v_p_r_test,v_neg_r_test,v_neu_r_test,clip_s_test,clip_r_test,replicated_array_test]\n",
        "X_test = [input_ids_test_source,token_type_ids_test_source, attention_mask_test_source,input_ids_test_reply,token_type_ids_test_reply, attention_mask_test_reply,v_p_s_test,v_neg_s_test,v_neu_s_test,v_p_r_test,v_neg_r_test,v_neu_r_test,replicated_array_test]\n",
        "label_test = np.asarray(encoded_dataset_source['test'][\"label_number\"]).astype(np.float32)\n",
        "\n",
        "test_results = modified_model.evaluate(X_test,label_test)\n",
        "\n",
        "# Print the test accuracy\n",
        "test_accuracy = test_results[1] * 100\n",
        "print(\"Test Accuracy: {:.2f}%\".format(test_accuracy))"
      ]
    },
    {
      "cell_type": "code",
      "execution_count": null,
      "metadata": {
        "id": "ty6qW-n4eQ5J"
      },
      "outputs": [],
      "source": [
        "from sklearn.metrics import f1_score\n",
        "from sklearn.metrics import precision_recall_fscore_support\n",
        "\n",
        "# Make predictions on the test dataset\n",
        "y_pred = modified_model.predict(X_test)\n",
        "y_pred = np.argmax(y_pred, axis=1)  # Convert predicted probabilities to class labels\n",
        "\n",
        "# Get the true labels from the test dataset\n",
        "# y_true = tf_test_dataset.map(lambda x, y: y)\n",
        "# y_true = np.concatenate(list(y_true.as_numpy_iterator()))\n",
        "\n",
        "# Calculate the F1 score\n",
        "f1score = f1_score(label_test, y_pred, average='weighted')\n",
        "f1score_macroo = f1_score(label_test, y_pred, average='macro')\n",
        "f1_score_macro =precision_recall_fscore_support(label_test, y_pred, average='macro')\n",
        "\n",
        "print(\"F1 Score: {:.2f}\".format(f1score))\n",
        "print(\"F1 Score: {:.2f}\".format(f1score_macroo))\n",
        "print(\"F1 macro Score: {:.2f}\",(f1_score_macro))"
      ]
    },
    {
      "cell_type": "code",
      "execution_count": null,
      "metadata": {
        "id": "yht2ptVyeUm9"
      },
      "outputs": [],
      "source": [
        "import numpy as np\n",
        "from sklearn.metrics import f1_score\n",
        "\n",
        "# Make predictions on the test dataset\n",
        "y_pred = modified_model.predict(X_test)\n",
        "y_pred = np.argmax(y_pred, axis=1)  # Convert predicted probabilities to class labels\n",
        "\n",
        "# Get the true labels from the test dataset\n",
        "#y_true = tf_test_dataset.map(lambda x, y: y)\n",
        "#y_true = np.concatenate(list(y_true.as_numpy_iterator()))\n",
        "# Calculate the F1 score for each label\n",
        "y_true = label_test\n",
        "num_labels = 4 # Number of labels in the dataset\n",
        "f1_scores = []\n",
        "for label in range(num_labels):\n",
        "    label_true = (y_true == label)\n",
        "    label_pred = (y_pred == label)\n",
        "    label_f1_score = f1_score(label_true, label_pred)\n",
        "    f1_scores.append(label_f1_score)\n",
        "\n",
        "# Print the F1 score for each label\n",
        "for label, f1_score in enumerate(f1_scores):\n",
        "    print(\"F1 Score for label {}: {:.2f}\".format(label, f1_score))"
      ]
    },
    {
      "cell_type": "code",
      "execution_count": null,
      "metadata": {
        "id": "p-WnhJCV-xSR"
      },
      "outputs": [],
      "source": [
        "# support 0.40 deny 0.55 comment 0.90 query 0.22 0.385\n",
        "# support 0.02 commnet 0.34 deny 0.91 query 0.48\n",
        "# 'support': 0, 'comment': 1, 'deny': 2, 'query': 3}"
      ]
    },
    {
      "cell_type": "code",
      "execution_count": null,
      "metadata": {
        "id": "daLvHzL8lq2m"
      },
      "outputs": [],
      "source": [
        "modified_model.save(\"lata\", save_format=\"tf\")\n"
      ]
    },
    {
      "cell_type": "code",
      "execution_count": null,
      "metadata": {
        "id": "kg13GH2gme1u"
      },
      "outputs": [],
      "source": [
        "# from tensorflow.keras.models import load_model\n",
        "\n",
        "\n",
        "\n",
        "# # Load the model\n",
        "# loaded_model = load_model(\"lata\")\n",
        "\n",
        "# # Now you can use the loaded_model for inference without retraining\n"
      ]
    },
    {
      "cell_type": "code",
      "execution_count": null,
      "metadata": {
        "id": "RDLe_DB8miCj"
      },
      "outputs": [],
      "source": [
        "predictions=modified_model.predict(X_test)"
      ]
    },
    {
      "cell_type": "code",
      "execution_count": null,
      "metadata": {
        "id": "_xFWuMT2m2wx"
      },
      "outputs": [],
      "source": [
        "predictions"
      ]
    },
    {
      "cell_type": "code",
      "execution_count": null,
      "metadata": {
        "id": "JMRlXD-voPwK"
      },
      "outputs": [],
      "source": [
        "import numpy as np\n",
        "from sklearn.metrics import precision_score, recall_score, f1_score, accuracy_score\n",
        "\n",
        "# Assuming y_true and y_pred are NumPy arrays\n",
        "# If they are not NumPy arrays, you can convert them using np.array(your_list)\n",
        "\n",
        "# Example true labels (ground truth) for a multiclass problem\n",
        "y_true = np.array(label_test)\n",
        "\n",
        "# Example predicted probabilities from your model\n",
        "# This assumes you have a model predicting probabilities for each class\n",
        "y_probs = np.array(predictions)\n",
        "\n",
        "# Convert predicted probabilities to class labels\n",
        "y_pred = np.argmax(y_probs, axis=-1)\n",
        "\n",
        "# Calculate accuracy\n",
        "accuracy = accuracy_score(y_true, y_pred)\n",
        "print(f'Accuracy: {accuracy}')\n",
        "\n",
        "# Calculate precision, recall, and F1-score\n",
        "precision = precision_score(y_true, y_pred, average='weighted')\n",
        "recall = recall_score(y_true, y_pred, average='weighted')\n",
        "f1 = f1_score(y_true, y_pred, average='weighted')\n",
        "\n",
        "print(f'Precision: {precision}')\n",
        "print(f'Recall: {recall}')\n",
        "print(f'F1-Score: {f1}')\n"
      ]
    },
    {
      "cell_type": "code",
      "execution_count": null,
      "metadata": {
        "id": "kw-HLL4W89sO"
      },
      "outputs": [],
      "source": [
        "import numpy as np\n",
        "from sklearn.metrics import precision_score, recall_score, f1_score, accuracy_score\n",
        "\n",
        "# Assuming y_true and y_pred are NumPy arrays\n",
        "# If they are not NumPy arrays, you can convert them using np.array(your_list)\n",
        "\n",
        "# Example true labels (ground truth) for a multiclass problem\n",
        "y_true = np.array(label_test)\n",
        "\n",
        "# Example predicted probabilities from your model\n",
        "# This assumes you have a model predicting probabilities for each class\n",
        "y_probs = np.array(predictions)\n",
        "\n",
        "# Convert predicted probabilities to class labels\n",
        "y_pred = np.argmax(y_probs, axis=-1)\n",
        "\n",
        "# Calculate accuracy\n",
        "accuracy = accuracy_score(y_true, y_pred)\n",
        "print(f'Accuracy: {accuracy}')\n",
        "\n",
        "# Calculate precision, recall, and F1-score (weighted)\n",
        "precision_weighted = precision_score(y_true, y_pred, average='weighted')\n",
        "recall_weighted = recall_score(y_true, y_pred, average='weighted')\n",
        "f1_weighted = f1_score(y_true, y_pred, average='weighted')\n",
        "\n",
        "print(f'Precision (Weighted): {precision_weighted}')\n",
        "print(f'Recall (Weighted): {recall_weighted}')\n",
        "print(f'F1-Score (Weighted): {f1_weighted}')\n",
        "\n",
        "# Calculate precision, recall, and F1-score (macro)\n",
        "precision_macro = precision_score(y_true, y_pred, average='macro')\n",
        "recall_macro = recall_score(y_true, y_pred, average='macro')\n",
        "f1_macro = f1_score(y_true, y_pred, average='macro')\n",
        "\n",
        "print(f'Precision (Macro): {precision_macro}')\n",
        "print(f'Recall (Macro): {recall_macro}')\n",
        "print(f'F1-Score (Macro): {f1_macro}')\n"
      ]
    },
    {
      "cell_type": "code",
      "execution_count": null,
      "metadata": {
        "id": "5j8HBNDVpBuf"
      },
      "outputs": [],
      "source": [
        "with open(\"metrics.txt\", \"w\") as file:\n",
        "    file.write(f'Accuracy: {accuracy}\\n')\n",
        "    file.write(f'Precision: {precision}\\n')\n",
        "    file.write(f'Recall: {recall}\\n')\n",
        "    file.write(f'F1-Score: {f1}\\n')\n",
        "\n",
        "print(\"Metrics saved to metrics.txt\")"
      ]
    },
    {
      "cell_type": "code",
      "execution_count": null,
      "metadata": {
        "id": "p6wXYQTN89sP"
      },
      "outputs": [],
      "source": []
    },
    {
      "cell_type": "code",
      "execution_count": null,
      "metadata": {
        "id": "C3Nt9e5289sP"
      },
      "outputs": [],
      "source": []
    },
    {
      "cell_type": "code",
      "execution_count": null,
      "metadata": {
        "id": "5C9lCOGi89sQ"
      },
      "outputs": [],
      "source": []
    }
  ],
  "metadata": {
    "accelerator": "GPU",
    "colab": {
      "provenance": []
    },
    "kernelspec": {
      "display_name": "Python 3 (ipykernel)",
      "language": "python",
      "name": "python3"
    },
    "language_info": {
      "codemirror_mode": {
        "name": "ipython",
        "version": 3
      },
      "file_extension": ".py",
      "mimetype": "text/x-python",
      "name": "python",
      "nbconvert_exporter": "python",
      "pygments_lexer": "ipython3",
      "version": "3.10.12"
    },
    "widgets": {
      "application/vnd.jupyter.widget-state+json": {
        "404b3262fc33429b8152585359c048b6": {
          "model_module": "@jupyter-widgets/controls",
          "model_name": "HBoxModel",
          "model_module_version": "1.5.0",
          "state": {
            "_dom_classes": [],
            "_model_module": "@jupyter-widgets/controls",
            "_model_module_version": "1.5.0",
            "_model_name": "HBoxModel",
            "_view_count": null,
            "_view_module": "@jupyter-widgets/controls",
            "_view_module_version": "1.5.0",
            "_view_name": "HBoxView",
            "box_style": "",
            "children": [
              "IPY_MODEL_f54c10d95e2a45df8d49de1d1f1038ff",
              "IPY_MODEL_d421d22a5d8841358bf1ff24dfb499c4",
              "IPY_MODEL_e1984ef5649149a4bd556b4db2f339d9"
            ],
            "layout": "IPY_MODEL_1892a24a8a3c471b8fcc8364ebc45d72"
          }
        },
        "f54c10d95e2a45df8d49de1d1f1038ff": {
          "model_module": "@jupyter-widgets/controls",
          "model_name": "HTMLModel",
          "model_module_version": "1.5.0",
          "state": {
            "_dom_classes": [],
            "_model_module": "@jupyter-widgets/controls",
            "_model_module_version": "1.5.0",
            "_model_name": "HTMLModel",
            "_view_count": null,
            "_view_module": "@jupyter-widgets/controls",
            "_view_module_version": "1.5.0",
            "_view_name": "HTMLView",
            "description": "",
            "description_tooltip": null,
            "layout": "IPY_MODEL_796cff39b5874482860b2dc10e303bd9",
            "placeholder": "​",
            "style": "IPY_MODEL_e1d4cec46e8a447ab3b7b6efbee5093f",
            "value": "Generating train split: "
          }
        },
        "d421d22a5d8841358bf1ff24dfb499c4": {
          "model_module": "@jupyter-widgets/controls",
          "model_name": "FloatProgressModel",
          "model_module_version": "1.5.0",
          "state": {
            "_dom_classes": [],
            "_model_module": "@jupyter-widgets/controls",
            "_model_module_version": "1.5.0",
            "_model_name": "FloatProgressModel",
            "_view_count": null,
            "_view_module": "@jupyter-widgets/controls",
            "_view_module_version": "1.5.0",
            "_view_name": "ProgressView",
            "bar_style": "success",
            "description": "",
            "description_tooltip": null,
            "layout": "IPY_MODEL_eeca543f0dc34ed592fa0314cb21166e",
            "max": 1,
            "min": 0,
            "orientation": "horizontal",
            "style": "IPY_MODEL_b4108a230f4541a8bb27c3a9a3313cea",
            "value": 1
          }
        },
        "e1984ef5649149a4bd556b4db2f339d9": {
          "model_module": "@jupyter-widgets/controls",
          "model_name": "HTMLModel",
          "model_module_version": "1.5.0",
          "state": {
            "_dom_classes": [],
            "_model_module": "@jupyter-widgets/controls",
            "_model_module_version": "1.5.0",
            "_model_name": "HTMLModel",
            "_view_count": null,
            "_view_module": "@jupyter-widgets/controls",
            "_view_module_version": "1.5.0",
            "_view_name": "HTMLView",
            "description": "",
            "description_tooltip": null,
            "layout": "IPY_MODEL_46dc3e26e6994fe1b61634f3f7524e63",
            "placeholder": "​",
            "style": "IPY_MODEL_b9cbce7325a94270bbbd3b638bd6599e",
            "value": " 4725/0 [00:00&lt;00:00, 14539.43 examples/s]"
          }
        },
        "1892a24a8a3c471b8fcc8364ebc45d72": {
          "model_module": "@jupyter-widgets/base",
          "model_name": "LayoutModel",
          "model_module_version": "1.2.0",
          "state": {
            "_model_module": "@jupyter-widgets/base",
            "_model_module_version": "1.2.0",
            "_model_name": "LayoutModel",
            "_view_count": null,
            "_view_module": "@jupyter-widgets/base",
            "_view_module_version": "1.2.0",
            "_view_name": "LayoutView",
            "align_content": null,
            "align_items": null,
            "align_self": null,
            "border": null,
            "bottom": null,
            "display": null,
            "flex": null,
            "flex_flow": null,
            "grid_area": null,
            "grid_auto_columns": null,
            "grid_auto_flow": null,
            "grid_auto_rows": null,
            "grid_column": null,
            "grid_gap": null,
            "grid_row": null,
            "grid_template_areas": null,
            "grid_template_columns": null,
            "grid_template_rows": null,
            "height": null,
            "justify_content": null,
            "justify_items": null,
            "left": null,
            "margin": null,
            "max_height": null,
            "max_width": null,
            "min_height": null,
            "min_width": null,
            "object_fit": null,
            "object_position": null,
            "order": null,
            "overflow": null,
            "overflow_x": null,
            "overflow_y": null,
            "padding": null,
            "right": null,
            "top": null,
            "visibility": null,
            "width": null
          }
        },
        "796cff39b5874482860b2dc10e303bd9": {
          "model_module": "@jupyter-widgets/base",
          "model_name": "LayoutModel",
          "model_module_version": "1.2.0",
          "state": {
            "_model_module": "@jupyter-widgets/base",
            "_model_module_version": "1.2.0",
            "_model_name": "LayoutModel",
            "_view_count": null,
            "_view_module": "@jupyter-widgets/base",
            "_view_module_version": "1.2.0",
            "_view_name": "LayoutView",
            "align_content": null,
            "align_items": null,
            "align_self": null,
            "border": null,
            "bottom": null,
            "display": null,
            "flex": null,
            "flex_flow": null,
            "grid_area": null,
            "grid_auto_columns": null,
            "grid_auto_flow": null,
            "grid_auto_rows": null,
            "grid_column": null,
            "grid_gap": null,
            "grid_row": null,
            "grid_template_areas": null,
            "grid_template_columns": null,
            "grid_template_rows": null,
            "height": null,
            "justify_content": null,
            "justify_items": null,
            "left": null,
            "margin": null,
            "max_height": null,
            "max_width": null,
            "min_height": null,
            "min_width": null,
            "object_fit": null,
            "object_position": null,
            "order": null,
            "overflow": null,
            "overflow_x": null,
            "overflow_y": null,
            "padding": null,
            "right": null,
            "top": null,
            "visibility": null,
            "width": null
          }
        },
        "e1d4cec46e8a447ab3b7b6efbee5093f": {
          "model_module": "@jupyter-widgets/controls",
          "model_name": "DescriptionStyleModel",
          "model_module_version": "1.5.0",
          "state": {
            "_model_module": "@jupyter-widgets/controls",
            "_model_module_version": "1.5.0",
            "_model_name": "DescriptionStyleModel",
            "_view_count": null,
            "_view_module": "@jupyter-widgets/base",
            "_view_module_version": "1.2.0",
            "_view_name": "StyleView",
            "description_width": ""
          }
        },
        "eeca543f0dc34ed592fa0314cb21166e": {
          "model_module": "@jupyter-widgets/base",
          "model_name": "LayoutModel",
          "model_module_version": "1.2.0",
          "state": {
            "_model_module": "@jupyter-widgets/base",
            "_model_module_version": "1.2.0",
            "_model_name": "LayoutModel",
            "_view_count": null,
            "_view_module": "@jupyter-widgets/base",
            "_view_module_version": "1.2.0",
            "_view_name": "LayoutView",
            "align_content": null,
            "align_items": null,
            "align_self": null,
            "border": null,
            "bottom": null,
            "display": null,
            "flex": null,
            "flex_flow": null,
            "grid_area": null,
            "grid_auto_columns": null,
            "grid_auto_flow": null,
            "grid_auto_rows": null,
            "grid_column": null,
            "grid_gap": null,
            "grid_row": null,
            "grid_template_areas": null,
            "grid_template_columns": null,
            "grid_template_rows": null,
            "height": null,
            "justify_content": null,
            "justify_items": null,
            "left": null,
            "margin": null,
            "max_height": null,
            "max_width": null,
            "min_height": null,
            "min_width": null,
            "object_fit": null,
            "object_position": null,
            "order": null,
            "overflow": null,
            "overflow_x": null,
            "overflow_y": null,
            "padding": null,
            "right": null,
            "top": null,
            "visibility": null,
            "width": "20px"
          }
        },
        "b4108a230f4541a8bb27c3a9a3313cea": {
          "model_module": "@jupyter-widgets/controls",
          "model_name": "ProgressStyleModel",
          "model_module_version": "1.5.0",
          "state": {
            "_model_module": "@jupyter-widgets/controls",
            "_model_module_version": "1.5.0",
            "_model_name": "ProgressStyleModel",
            "_view_count": null,
            "_view_module": "@jupyter-widgets/base",
            "_view_module_version": "1.2.0",
            "_view_name": "StyleView",
            "bar_color": null,
            "description_width": ""
          }
        },
        "46dc3e26e6994fe1b61634f3f7524e63": {
          "model_module": "@jupyter-widgets/base",
          "model_name": "LayoutModel",
          "model_module_version": "1.2.0",
          "state": {
            "_model_module": "@jupyter-widgets/base",
            "_model_module_version": "1.2.0",
            "_model_name": "LayoutModel",
            "_view_count": null,
            "_view_module": "@jupyter-widgets/base",
            "_view_module_version": "1.2.0",
            "_view_name": "LayoutView",
            "align_content": null,
            "align_items": null,
            "align_self": null,
            "border": null,
            "bottom": null,
            "display": null,
            "flex": null,
            "flex_flow": null,
            "grid_area": null,
            "grid_auto_columns": null,
            "grid_auto_flow": null,
            "grid_auto_rows": null,
            "grid_column": null,
            "grid_gap": null,
            "grid_row": null,
            "grid_template_areas": null,
            "grid_template_columns": null,
            "grid_template_rows": null,
            "height": null,
            "justify_content": null,
            "justify_items": null,
            "left": null,
            "margin": null,
            "max_height": null,
            "max_width": null,
            "min_height": null,
            "min_width": null,
            "object_fit": null,
            "object_position": null,
            "order": null,
            "overflow": null,
            "overflow_x": null,
            "overflow_y": null,
            "padding": null,
            "right": null,
            "top": null,
            "visibility": null,
            "width": null
          }
        },
        "b9cbce7325a94270bbbd3b638bd6599e": {
          "model_module": "@jupyter-widgets/controls",
          "model_name": "DescriptionStyleModel",
          "model_module_version": "1.5.0",
          "state": {
            "_model_module": "@jupyter-widgets/controls",
            "_model_module_version": "1.5.0",
            "_model_name": "DescriptionStyleModel",
            "_view_count": null,
            "_view_module": "@jupyter-widgets/base",
            "_view_module_version": "1.2.0",
            "_view_name": "StyleView",
            "description_width": ""
          }
        },
        "57bd39c624824f10988d871308c910ed": {
          "model_module": "@jupyter-widgets/controls",
          "model_name": "HBoxModel",
          "model_module_version": "1.5.0",
          "state": {
            "_dom_classes": [],
            "_model_module": "@jupyter-widgets/controls",
            "_model_module_version": "1.5.0",
            "_model_name": "HBoxModel",
            "_view_count": null,
            "_view_module": "@jupyter-widgets/controls",
            "_view_module_version": "1.5.0",
            "_view_name": "HBoxView",
            "box_style": "",
            "children": [
              "IPY_MODEL_a42f500cb5194605bb22474ee68686db",
              "IPY_MODEL_e108d52d078245e783d9886386ed8155",
              "IPY_MODEL_2ac01771a90b45759ffc79f410038c45"
            ],
            "layout": "IPY_MODEL_26c441e31a7d43308a6d495b8593f733"
          }
        },
        "a42f500cb5194605bb22474ee68686db": {
          "model_module": "@jupyter-widgets/controls",
          "model_name": "HTMLModel",
          "model_module_version": "1.5.0",
          "state": {
            "_dom_classes": [],
            "_model_module": "@jupyter-widgets/controls",
            "_model_module_version": "1.5.0",
            "_model_name": "HTMLModel",
            "_view_count": null,
            "_view_module": "@jupyter-widgets/controls",
            "_view_module_version": "1.5.0",
            "_view_name": "HTMLView",
            "description": "",
            "description_tooltip": null,
            "layout": "IPY_MODEL_54033917cda346df86121b3a16fb4395",
            "placeholder": "​",
            "style": "IPY_MODEL_a3f18d9679a6465d99a44f51a4a66b26",
            "value": "Generating valid split: "
          }
        },
        "e108d52d078245e783d9886386ed8155": {
          "model_module": "@jupyter-widgets/controls",
          "model_name": "FloatProgressModel",
          "model_module_version": "1.5.0",
          "state": {
            "_dom_classes": [],
            "_model_module": "@jupyter-widgets/controls",
            "_model_module_version": "1.5.0",
            "_model_name": "FloatProgressModel",
            "_view_count": null,
            "_view_module": "@jupyter-widgets/controls",
            "_view_module_version": "1.5.0",
            "_view_name": "ProgressView",
            "bar_style": "success",
            "description": "",
            "description_tooltip": null,
            "layout": "IPY_MODEL_f127e5a3901648d28cd23ddc16d8e4a5",
            "max": 1,
            "min": 0,
            "orientation": "horizontal",
            "style": "IPY_MODEL_d1eb517b2c3d4e208a4b1b46cac4481c",
            "value": 1
          }
        },
        "2ac01771a90b45759ffc79f410038c45": {
          "model_module": "@jupyter-widgets/controls",
          "model_name": "HTMLModel",
          "model_module_version": "1.5.0",
          "state": {
            "_dom_classes": [],
            "_model_module": "@jupyter-widgets/controls",
            "_model_module_version": "1.5.0",
            "_model_name": "HTMLModel",
            "_view_count": null,
            "_view_module": "@jupyter-widgets/controls",
            "_view_module_version": "1.5.0",
            "_view_name": "HTMLView",
            "description": "",
            "description_tooltip": null,
            "layout": "IPY_MODEL_ecf4221b54aa4117bf5bf254bd221f6e",
            "placeholder": "​",
            "style": "IPY_MODEL_bf550ac26f694cbba6468acb55785beb",
            "value": " 1440/0 [00:00&lt;00:00, 8143.96 examples/s]"
          }
        },
        "26c441e31a7d43308a6d495b8593f733": {
          "model_module": "@jupyter-widgets/base",
          "model_name": "LayoutModel",
          "model_module_version": "1.2.0",
          "state": {
            "_model_module": "@jupyter-widgets/base",
            "_model_module_version": "1.2.0",
            "_model_name": "LayoutModel",
            "_view_count": null,
            "_view_module": "@jupyter-widgets/base",
            "_view_module_version": "1.2.0",
            "_view_name": "LayoutView",
            "align_content": null,
            "align_items": null,
            "align_self": null,
            "border": null,
            "bottom": null,
            "display": null,
            "flex": null,
            "flex_flow": null,
            "grid_area": null,
            "grid_auto_columns": null,
            "grid_auto_flow": null,
            "grid_auto_rows": null,
            "grid_column": null,
            "grid_gap": null,
            "grid_row": null,
            "grid_template_areas": null,
            "grid_template_columns": null,
            "grid_template_rows": null,
            "height": null,
            "justify_content": null,
            "justify_items": null,
            "left": null,
            "margin": null,
            "max_height": null,
            "max_width": null,
            "min_height": null,
            "min_width": null,
            "object_fit": null,
            "object_position": null,
            "order": null,
            "overflow": null,
            "overflow_x": null,
            "overflow_y": null,
            "padding": null,
            "right": null,
            "top": null,
            "visibility": null,
            "width": null
          }
        },
        "54033917cda346df86121b3a16fb4395": {
          "model_module": "@jupyter-widgets/base",
          "model_name": "LayoutModel",
          "model_module_version": "1.2.0",
          "state": {
            "_model_module": "@jupyter-widgets/base",
            "_model_module_version": "1.2.0",
            "_model_name": "LayoutModel",
            "_view_count": null,
            "_view_module": "@jupyter-widgets/base",
            "_view_module_version": "1.2.0",
            "_view_name": "LayoutView",
            "align_content": null,
            "align_items": null,
            "align_self": null,
            "border": null,
            "bottom": null,
            "display": null,
            "flex": null,
            "flex_flow": null,
            "grid_area": null,
            "grid_auto_columns": null,
            "grid_auto_flow": null,
            "grid_auto_rows": null,
            "grid_column": null,
            "grid_gap": null,
            "grid_row": null,
            "grid_template_areas": null,
            "grid_template_columns": null,
            "grid_template_rows": null,
            "height": null,
            "justify_content": null,
            "justify_items": null,
            "left": null,
            "margin": null,
            "max_height": null,
            "max_width": null,
            "min_height": null,
            "min_width": null,
            "object_fit": null,
            "object_position": null,
            "order": null,
            "overflow": null,
            "overflow_x": null,
            "overflow_y": null,
            "padding": null,
            "right": null,
            "top": null,
            "visibility": null,
            "width": null
          }
        },
        "a3f18d9679a6465d99a44f51a4a66b26": {
          "model_module": "@jupyter-widgets/controls",
          "model_name": "DescriptionStyleModel",
          "model_module_version": "1.5.0",
          "state": {
            "_model_module": "@jupyter-widgets/controls",
            "_model_module_version": "1.5.0",
            "_model_name": "DescriptionStyleModel",
            "_view_count": null,
            "_view_module": "@jupyter-widgets/base",
            "_view_module_version": "1.2.0",
            "_view_name": "StyleView",
            "description_width": ""
          }
        },
        "f127e5a3901648d28cd23ddc16d8e4a5": {
          "model_module": "@jupyter-widgets/base",
          "model_name": "LayoutModel",
          "model_module_version": "1.2.0",
          "state": {
            "_model_module": "@jupyter-widgets/base",
            "_model_module_version": "1.2.0",
            "_model_name": "LayoutModel",
            "_view_count": null,
            "_view_module": "@jupyter-widgets/base",
            "_view_module_version": "1.2.0",
            "_view_name": "LayoutView",
            "align_content": null,
            "align_items": null,
            "align_self": null,
            "border": null,
            "bottom": null,
            "display": null,
            "flex": null,
            "flex_flow": null,
            "grid_area": null,
            "grid_auto_columns": null,
            "grid_auto_flow": null,
            "grid_auto_rows": null,
            "grid_column": null,
            "grid_gap": null,
            "grid_row": null,
            "grid_template_areas": null,
            "grid_template_columns": null,
            "grid_template_rows": null,
            "height": null,
            "justify_content": null,
            "justify_items": null,
            "left": null,
            "margin": null,
            "max_height": null,
            "max_width": null,
            "min_height": null,
            "min_width": null,
            "object_fit": null,
            "object_position": null,
            "order": null,
            "overflow": null,
            "overflow_x": null,
            "overflow_y": null,
            "padding": null,
            "right": null,
            "top": null,
            "visibility": null,
            "width": "20px"
          }
        },
        "d1eb517b2c3d4e208a4b1b46cac4481c": {
          "model_module": "@jupyter-widgets/controls",
          "model_name": "ProgressStyleModel",
          "model_module_version": "1.5.0",
          "state": {
            "_model_module": "@jupyter-widgets/controls",
            "_model_module_version": "1.5.0",
            "_model_name": "ProgressStyleModel",
            "_view_count": null,
            "_view_module": "@jupyter-widgets/base",
            "_view_module_version": "1.2.0",
            "_view_name": "StyleView",
            "bar_color": null,
            "description_width": ""
          }
        },
        "ecf4221b54aa4117bf5bf254bd221f6e": {
          "model_module": "@jupyter-widgets/base",
          "model_name": "LayoutModel",
          "model_module_version": "1.2.0",
          "state": {
            "_model_module": "@jupyter-widgets/base",
            "_model_module_version": "1.2.0",
            "_model_name": "LayoutModel",
            "_view_count": null,
            "_view_module": "@jupyter-widgets/base",
            "_view_module_version": "1.2.0",
            "_view_name": "LayoutView",
            "align_content": null,
            "align_items": null,
            "align_self": null,
            "border": null,
            "bottom": null,
            "display": null,
            "flex": null,
            "flex_flow": null,
            "grid_area": null,
            "grid_auto_columns": null,
            "grid_auto_flow": null,
            "grid_auto_rows": null,
            "grid_column": null,
            "grid_gap": null,
            "grid_row": null,
            "grid_template_areas": null,
            "grid_template_columns": null,
            "grid_template_rows": null,
            "height": null,
            "justify_content": null,
            "justify_items": null,
            "left": null,
            "margin": null,
            "max_height": null,
            "max_width": null,
            "min_height": null,
            "min_width": null,
            "object_fit": null,
            "object_position": null,
            "order": null,
            "overflow": null,
            "overflow_x": null,
            "overflow_y": null,
            "padding": null,
            "right": null,
            "top": null,
            "visibility": null,
            "width": null
          }
        },
        "bf550ac26f694cbba6468acb55785beb": {
          "model_module": "@jupyter-widgets/controls",
          "model_name": "DescriptionStyleModel",
          "model_module_version": "1.5.0",
          "state": {
            "_model_module": "@jupyter-widgets/controls",
            "_model_module_version": "1.5.0",
            "_model_name": "DescriptionStyleModel",
            "_view_count": null,
            "_view_module": "@jupyter-widgets/base",
            "_view_module_version": "1.2.0",
            "_view_name": "StyleView",
            "description_width": ""
          }
        },
        "a089e2516b564df2bbbec6227da58c1d": {
          "model_module": "@jupyter-widgets/controls",
          "model_name": "HBoxModel",
          "model_module_version": "1.5.0",
          "state": {
            "_dom_classes": [],
            "_model_module": "@jupyter-widgets/controls",
            "_model_module_version": "1.5.0",
            "_model_name": "HBoxModel",
            "_view_count": null,
            "_view_module": "@jupyter-widgets/controls",
            "_view_module_version": "1.5.0",
            "_view_name": "HBoxView",
            "box_style": "",
            "children": [
              "IPY_MODEL_cfcffee2ae844b2aa9e70506fa3578fe",
              "IPY_MODEL_eb0b90d0ebac42abb0436644b3143030",
              "IPY_MODEL_40f6e7f916d247acaf752ff5e65cfccb"
            ],
            "layout": "IPY_MODEL_3c146a52af9140ad8c7f62dced61ad5a"
          }
        },
        "cfcffee2ae844b2aa9e70506fa3578fe": {
          "model_module": "@jupyter-widgets/controls",
          "model_name": "HTMLModel",
          "model_module_version": "1.5.0",
          "state": {
            "_dom_classes": [],
            "_model_module": "@jupyter-widgets/controls",
            "_model_module_version": "1.5.0",
            "_model_name": "HTMLModel",
            "_view_count": null,
            "_view_module": "@jupyter-widgets/controls",
            "_view_module_version": "1.5.0",
            "_view_name": "HTMLView",
            "description": "",
            "description_tooltip": null,
            "layout": "IPY_MODEL_006d5df0329f442bb72003d773bc203c",
            "placeholder": "​",
            "style": "IPY_MODEL_2245e54af54c41ab8bedf084b570a5d3",
            "value": "Generating test split: "
          }
        },
        "eb0b90d0ebac42abb0436644b3143030": {
          "model_module": "@jupyter-widgets/controls",
          "model_name": "FloatProgressModel",
          "model_module_version": "1.5.0",
          "state": {
            "_dom_classes": [],
            "_model_module": "@jupyter-widgets/controls",
            "_model_module_version": "1.5.0",
            "_model_name": "FloatProgressModel",
            "_view_count": null,
            "_view_module": "@jupyter-widgets/controls",
            "_view_module_version": "1.5.0",
            "_view_name": "ProgressView",
            "bar_style": "success",
            "description": "",
            "description_tooltip": null,
            "layout": "IPY_MODEL_f2f397a4e1534c01b58f4d58062aa295",
            "max": 1,
            "min": 0,
            "orientation": "horizontal",
            "style": "IPY_MODEL_b676ffa6f9954096bc87faf59e005884",
            "value": 1
          }
        },
        "40f6e7f916d247acaf752ff5e65cfccb": {
          "model_module": "@jupyter-widgets/controls",
          "model_name": "HTMLModel",
          "model_module_version": "1.5.0",
          "state": {
            "_dom_classes": [],
            "_model_module": "@jupyter-widgets/controls",
            "_model_module_version": "1.5.0",
            "_model_name": "HTMLModel",
            "_view_count": null,
            "_view_module": "@jupyter-widgets/controls",
            "_view_module_version": "1.5.0",
            "_view_name": "HTMLView",
            "description": "",
            "description_tooltip": null,
            "layout": "IPY_MODEL_32fd4a2947be441d84aadcc987e26386",
            "placeholder": "​",
            "style": "IPY_MODEL_a227a71183ca4066a61088ceb4dd2c71",
            "value": " 1827/0 [00:00&lt;00:00, 11398.75 examples/s]"
          }
        },
        "3c146a52af9140ad8c7f62dced61ad5a": {
          "model_module": "@jupyter-widgets/base",
          "model_name": "LayoutModel",
          "model_module_version": "1.2.0",
          "state": {
            "_model_module": "@jupyter-widgets/base",
            "_model_module_version": "1.2.0",
            "_model_name": "LayoutModel",
            "_view_count": null,
            "_view_module": "@jupyter-widgets/base",
            "_view_module_version": "1.2.0",
            "_view_name": "LayoutView",
            "align_content": null,
            "align_items": null,
            "align_self": null,
            "border": null,
            "bottom": null,
            "display": null,
            "flex": null,
            "flex_flow": null,
            "grid_area": null,
            "grid_auto_columns": null,
            "grid_auto_flow": null,
            "grid_auto_rows": null,
            "grid_column": null,
            "grid_gap": null,
            "grid_row": null,
            "grid_template_areas": null,
            "grid_template_columns": null,
            "grid_template_rows": null,
            "height": null,
            "justify_content": null,
            "justify_items": null,
            "left": null,
            "margin": null,
            "max_height": null,
            "max_width": null,
            "min_height": null,
            "min_width": null,
            "object_fit": null,
            "object_position": null,
            "order": null,
            "overflow": null,
            "overflow_x": null,
            "overflow_y": null,
            "padding": null,
            "right": null,
            "top": null,
            "visibility": null,
            "width": null
          }
        },
        "006d5df0329f442bb72003d773bc203c": {
          "model_module": "@jupyter-widgets/base",
          "model_name": "LayoutModel",
          "model_module_version": "1.2.0",
          "state": {
            "_model_module": "@jupyter-widgets/base",
            "_model_module_version": "1.2.0",
            "_model_name": "LayoutModel",
            "_view_count": null,
            "_view_module": "@jupyter-widgets/base",
            "_view_module_version": "1.2.0",
            "_view_name": "LayoutView",
            "align_content": null,
            "align_items": null,
            "align_self": null,
            "border": null,
            "bottom": null,
            "display": null,
            "flex": null,
            "flex_flow": null,
            "grid_area": null,
            "grid_auto_columns": null,
            "grid_auto_flow": null,
            "grid_auto_rows": null,
            "grid_column": null,
            "grid_gap": null,
            "grid_row": null,
            "grid_template_areas": null,
            "grid_template_columns": null,
            "grid_template_rows": null,
            "height": null,
            "justify_content": null,
            "justify_items": null,
            "left": null,
            "margin": null,
            "max_height": null,
            "max_width": null,
            "min_height": null,
            "min_width": null,
            "object_fit": null,
            "object_position": null,
            "order": null,
            "overflow": null,
            "overflow_x": null,
            "overflow_y": null,
            "padding": null,
            "right": null,
            "top": null,
            "visibility": null,
            "width": null
          }
        },
        "2245e54af54c41ab8bedf084b570a5d3": {
          "model_module": "@jupyter-widgets/controls",
          "model_name": "DescriptionStyleModel",
          "model_module_version": "1.5.0",
          "state": {
            "_model_module": "@jupyter-widgets/controls",
            "_model_module_version": "1.5.0",
            "_model_name": "DescriptionStyleModel",
            "_view_count": null,
            "_view_module": "@jupyter-widgets/base",
            "_view_module_version": "1.2.0",
            "_view_name": "StyleView",
            "description_width": ""
          }
        },
        "f2f397a4e1534c01b58f4d58062aa295": {
          "model_module": "@jupyter-widgets/base",
          "model_name": "LayoutModel",
          "model_module_version": "1.2.0",
          "state": {
            "_model_module": "@jupyter-widgets/base",
            "_model_module_version": "1.2.0",
            "_model_name": "LayoutModel",
            "_view_count": null,
            "_view_module": "@jupyter-widgets/base",
            "_view_module_version": "1.2.0",
            "_view_name": "LayoutView",
            "align_content": null,
            "align_items": null,
            "align_self": null,
            "border": null,
            "bottom": null,
            "display": null,
            "flex": null,
            "flex_flow": null,
            "grid_area": null,
            "grid_auto_columns": null,
            "grid_auto_flow": null,
            "grid_auto_rows": null,
            "grid_column": null,
            "grid_gap": null,
            "grid_row": null,
            "grid_template_areas": null,
            "grid_template_columns": null,
            "grid_template_rows": null,
            "height": null,
            "justify_content": null,
            "justify_items": null,
            "left": null,
            "margin": null,
            "max_height": null,
            "max_width": null,
            "min_height": null,
            "min_width": null,
            "object_fit": null,
            "object_position": null,
            "order": null,
            "overflow": null,
            "overflow_x": null,
            "overflow_y": null,
            "padding": null,
            "right": null,
            "top": null,
            "visibility": null,
            "width": "20px"
          }
        },
        "b676ffa6f9954096bc87faf59e005884": {
          "model_module": "@jupyter-widgets/controls",
          "model_name": "ProgressStyleModel",
          "model_module_version": "1.5.0",
          "state": {
            "_model_module": "@jupyter-widgets/controls",
            "_model_module_version": "1.5.0",
            "_model_name": "ProgressStyleModel",
            "_view_count": null,
            "_view_module": "@jupyter-widgets/base",
            "_view_module_version": "1.2.0",
            "_view_name": "StyleView",
            "bar_color": null,
            "description_width": ""
          }
        },
        "32fd4a2947be441d84aadcc987e26386": {
          "model_module": "@jupyter-widgets/base",
          "model_name": "LayoutModel",
          "model_module_version": "1.2.0",
          "state": {
            "_model_module": "@jupyter-widgets/base",
            "_model_module_version": "1.2.0",
            "_model_name": "LayoutModel",
            "_view_count": null,
            "_view_module": "@jupyter-widgets/base",
            "_view_module_version": "1.2.0",
            "_view_name": "LayoutView",
            "align_content": null,
            "align_items": null,
            "align_self": null,
            "border": null,
            "bottom": null,
            "display": null,
            "flex": null,
            "flex_flow": null,
            "grid_area": null,
            "grid_auto_columns": null,
            "grid_auto_flow": null,
            "grid_auto_rows": null,
            "grid_column": null,
            "grid_gap": null,
            "grid_row": null,
            "grid_template_areas": null,
            "grid_template_columns": null,
            "grid_template_rows": null,
            "height": null,
            "justify_content": null,
            "justify_items": null,
            "left": null,
            "margin": null,
            "max_height": null,
            "max_width": null,
            "min_height": null,
            "min_width": null,
            "object_fit": null,
            "object_position": null,
            "order": null,
            "overflow": null,
            "overflow_x": null,
            "overflow_y": null,
            "padding": null,
            "right": null,
            "top": null,
            "visibility": null,
            "width": null
          }
        },
        "a227a71183ca4066a61088ceb4dd2c71": {
          "model_module": "@jupyter-widgets/controls",
          "model_name": "DescriptionStyleModel",
          "model_module_version": "1.5.0",
          "state": {
            "_model_module": "@jupyter-widgets/controls",
            "_model_module_version": "1.5.0",
            "_model_name": "DescriptionStyleModel",
            "_view_count": null,
            "_view_module": "@jupyter-widgets/base",
            "_view_module_version": "1.2.0",
            "_view_name": "StyleView",
            "description_width": ""
          }
        },
        "f3af4f72d66748e086276cfca3f16747": {
          "model_module": "@jupyter-widgets/controls",
          "model_name": "HBoxModel",
          "model_module_version": "1.5.0",
          "state": {
            "_dom_classes": [],
            "_model_module": "@jupyter-widgets/controls",
            "_model_module_version": "1.5.0",
            "_model_name": "HBoxModel",
            "_view_count": null,
            "_view_module": "@jupyter-widgets/controls",
            "_view_module_version": "1.5.0",
            "_view_name": "HBoxView",
            "box_style": "",
            "children": [
              "IPY_MODEL_55b372350f47461e8e19b2d14499b58d",
              "IPY_MODEL_288f0df7137c405392c297cea44e1a5f",
              "IPY_MODEL_6a55f4cee93c47979bdc8801dab62c21"
            ],
            "layout": "IPY_MODEL_513730c5560d4836b05e6d4c973eadf7"
          }
        },
        "55b372350f47461e8e19b2d14499b58d": {
          "model_module": "@jupyter-widgets/controls",
          "model_name": "HTMLModel",
          "model_module_version": "1.5.0",
          "state": {
            "_dom_classes": [],
            "_model_module": "@jupyter-widgets/controls",
            "_model_module_version": "1.5.0",
            "_model_name": "HTMLModel",
            "_view_count": null,
            "_view_module": "@jupyter-widgets/controls",
            "_view_module_version": "1.5.0",
            "_view_name": "HTMLView",
            "description": "",
            "description_tooltip": null,
            "layout": "IPY_MODEL_355c1599f4c94b188f3906750921aca0",
            "placeholder": "​",
            "style": "IPY_MODEL_44d19092bdc84565a283b0327a874511",
            "value": "Map: 100%"
          }
        },
        "288f0df7137c405392c297cea44e1a5f": {
          "model_module": "@jupyter-widgets/controls",
          "model_name": "FloatProgressModel",
          "model_module_version": "1.5.0",
          "state": {
            "_dom_classes": [],
            "_model_module": "@jupyter-widgets/controls",
            "_model_module_version": "1.5.0",
            "_model_name": "FloatProgressModel",
            "_view_count": null,
            "_view_module": "@jupyter-widgets/controls",
            "_view_module_version": "1.5.0",
            "_view_name": "ProgressView",
            "bar_style": "success",
            "description": "",
            "description_tooltip": null,
            "layout": "IPY_MODEL_fe285beb16bf48a4a39748b850ceb460",
            "max": 4725,
            "min": 0,
            "orientation": "horizontal",
            "style": "IPY_MODEL_1c0c1a844baa457684b382cd1f6178e5",
            "value": 4725
          }
        },
        "6a55f4cee93c47979bdc8801dab62c21": {
          "model_module": "@jupyter-widgets/controls",
          "model_name": "HTMLModel",
          "model_module_version": "1.5.0",
          "state": {
            "_dom_classes": [],
            "_model_module": "@jupyter-widgets/controls",
            "_model_module_version": "1.5.0",
            "_model_name": "HTMLModel",
            "_view_count": null,
            "_view_module": "@jupyter-widgets/controls",
            "_view_module_version": "1.5.0",
            "_view_name": "HTMLView",
            "description": "",
            "description_tooltip": null,
            "layout": "IPY_MODEL_ff51c75e40324d70821f479e8239bffe",
            "placeholder": "​",
            "style": "IPY_MODEL_2fb9c00e34c4446faaaf633051cb2371",
            "value": " 4725/4725 [00:01&lt;00:00, 3981.55 examples/s]"
          }
        },
        "513730c5560d4836b05e6d4c973eadf7": {
          "model_module": "@jupyter-widgets/base",
          "model_name": "LayoutModel",
          "model_module_version": "1.2.0",
          "state": {
            "_model_module": "@jupyter-widgets/base",
            "_model_module_version": "1.2.0",
            "_model_name": "LayoutModel",
            "_view_count": null,
            "_view_module": "@jupyter-widgets/base",
            "_view_module_version": "1.2.0",
            "_view_name": "LayoutView",
            "align_content": null,
            "align_items": null,
            "align_self": null,
            "border": null,
            "bottom": null,
            "display": null,
            "flex": null,
            "flex_flow": null,
            "grid_area": null,
            "grid_auto_columns": null,
            "grid_auto_flow": null,
            "grid_auto_rows": null,
            "grid_column": null,
            "grid_gap": null,
            "grid_row": null,
            "grid_template_areas": null,
            "grid_template_columns": null,
            "grid_template_rows": null,
            "height": null,
            "justify_content": null,
            "justify_items": null,
            "left": null,
            "margin": null,
            "max_height": null,
            "max_width": null,
            "min_height": null,
            "min_width": null,
            "object_fit": null,
            "object_position": null,
            "order": null,
            "overflow": null,
            "overflow_x": null,
            "overflow_y": null,
            "padding": null,
            "right": null,
            "top": null,
            "visibility": null,
            "width": null
          }
        },
        "355c1599f4c94b188f3906750921aca0": {
          "model_module": "@jupyter-widgets/base",
          "model_name": "LayoutModel",
          "model_module_version": "1.2.0",
          "state": {
            "_model_module": "@jupyter-widgets/base",
            "_model_module_version": "1.2.0",
            "_model_name": "LayoutModel",
            "_view_count": null,
            "_view_module": "@jupyter-widgets/base",
            "_view_module_version": "1.2.0",
            "_view_name": "LayoutView",
            "align_content": null,
            "align_items": null,
            "align_self": null,
            "border": null,
            "bottom": null,
            "display": null,
            "flex": null,
            "flex_flow": null,
            "grid_area": null,
            "grid_auto_columns": null,
            "grid_auto_flow": null,
            "grid_auto_rows": null,
            "grid_column": null,
            "grid_gap": null,
            "grid_row": null,
            "grid_template_areas": null,
            "grid_template_columns": null,
            "grid_template_rows": null,
            "height": null,
            "justify_content": null,
            "justify_items": null,
            "left": null,
            "margin": null,
            "max_height": null,
            "max_width": null,
            "min_height": null,
            "min_width": null,
            "object_fit": null,
            "object_position": null,
            "order": null,
            "overflow": null,
            "overflow_x": null,
            "overflow_y": null,
            "padding": null,
            "right": null,
            "top": null,
            "visibility": null,
            "width": null
          }
        },
        "44d19092bdc84565a283b0327a874511": {
          "model_module": "@jupyter-widgets/controls",
          "model_name": "DescriptionStyleModel",
          "model_module_version": "1.5.0",
          "state": {
            "_model_module": "@jupyter-widgets/controls",
            "_model_module_version": "1.5.0",
            "_model_name": "DescriptionStyleModel",
            "_view_count": null,
            "_view_module": "@jupyter-widgets/base",
            "_view_module_version": "1.2.0",
            "_view_name": "StyleView",
            "description_width": ""
          }
        },
        "fe285beb16bf48a4a39748b850ceb460": {
          "model_module": "@jupyter-widgets/base",
          "model_name": "LayoutModel",
          "model_module_version": "1.2.0",
          "state": {
            "_model_module": "@jupyter-widgets/base",
            "_model_module_version": "1.2.0",
            "_model_name": "LayoutModel",
            "_view_count": null,
            "_view_module": "@jupyter-widgets/base",
            "_view_module_version": "1.2.0",
            "_view_name": "LayoutView",
            "align_content": null,
            "align_items": null,
            "align_self": null,
            "border": null,
            "bottom": null,
            "display": null,
            "flex": null,
            "flex_flow": null,
            "grid_area": null,
            "grid_auto_columns": null,
            "grid_auto_flow": null,
            "grid_auto_rows": null,
            "grid_column": null,
            "grid_gap": null,
            "grid_row": null,
            "grid_template_areas": null,
            "grid_template_columns": null,
            "grid_template_rows": null,
            "height": null,
            "justify_content": null,
            "justify_items": null,
            "left": null,
            "margin": null,
            "max_height": null,
            "max_width": null,
            "min_height": null,
            "min_width": null,
            "object_fit": null,
            "object_position": null,
            "order": null,
            "overflow": null,
            "overflow_x": null,
            "overflow_y": null,
            "padding": null,
            "right": null,
            "top": null,
            "visibility": null,
            "width": null
          }
        },
        "1c0c1a844baa457684b382cd1f6178e5": {
          "model_module": "@jupyter-widgets/controls",
          "model_name": "ProgressStyleModel",
          "model_module_version": "1.5.0",
          "state": {
            "_model_module": "@jupyter-widgets/controls",
            "_model_module_version": "1.5.0",
            "_model_name": "ProgressStyleModel",
            "_view_count": null,
            "_view_module": "@jupyter-widgets/base",
            "_view_module_version": "1.2.0",
            "_view_name": "StyleView",
            "bar_color": null,
            "description_width": ""
          }
        },
        "ff51c75e40324d70821f479e8239bffe": {
          "model_module": "@jupyter-widgets/base",
          "model_name": "LayoutModel",
          "model_module_version": "1.2.0",
          "state": {
            "_model_module": "@jupyter-widgets/base",
            "_model_module_version": "1.2.0",
            "_model_name": "LayoutModel",
            "_view_count": null,
            "_view_module": "@jupyter-widgets/base",
            "_view_module_version": "1.2.0",
            "_view_name": "LayoutView",
            "align_content": null,
            "align_items": null,
            "align_self": null,
            "border": null,
            "bottom": null,
            "display": null,
            "flex": null,
            "flex_flow": null,
            "grid_area": null,
            "grid_auto_columns": null,
            "grid_auto_flow": null,
            "grid_auto_rows": null,
            "grid_column": null,
            "grid_gap": null,
            "grid_row": null,
            "grid_template_areas": null,
            "grid_template_columns": null,
            "grid_template_rows": null,
            "height": null,
            "justify_content": null,
            "justify_items": null,
            "left": null,
            "margin": null,
            "max_height": null,
            "max_width": null,
            "min_height": null,
            "min_width": null,
            "object_fit": null,
            "object_position": null,
            "order": null,
            "overflow": null,
            "overflow_x": null,
            "overflow_y": null,
            "padding": null,
            "right": null,
            "top": null,
            "visibility": null,
            "width": null
          }
        },
        "2fb9c00e34c4446faaaf633051cb2371": {
          "model_module": "@jupyter-widgets/controls",
          "model_name": "DescriptionStyleModel",
          "model_module_version": "1.5.0",
          "state": {
            "_model_module": "@jupyter-widgets/controls",
            "_model_module_version": "1.5.0",
            "_model_name": "DescriptionStyleModel",
            "_view_count": null,
            "_view_module": "@jupyter-widgets/base",
            "_view_module_version": "1.2.0",
            "_view_name": "StyleView",
            "description_width": ""
          }
        },
        "a5e5b709301242369494a42617643aed": {
          "model_module": "@jupyter-widgets/controls",
          "model_name": "HBoxModel",
          "model_module_version": "1.5.0",
          "state": {
            "_dom_classes": [],
            "_model_module": "@jupyter-widgets/controls",
            "_model_module_version": "1.5.0",
            "_model_name": "HBoxModel",
            "_view_count": null,
            "_view_module": "@jupyter-widgets/controls",
            "_view_module_version": "1.5.0",
            "_view_name": "HBoxView",
            "box_style": "",
            "children": [
              "IPY_MODEL_aba0190aa174417186fae09e9ee2393b",
              "IPY_MODEL_2687e058d90d4dc88196dec4e86cca7a",
              "IPY_MODEL_45999c50ad794bb6a33beb9cf96483b0"
            ],
            "layout": "IPY_MODEL_0e2b8d25ff064c718ff36501ee51da12"
          }
        },
        "aba0190aa174417186fae09e9ee2393b": {
          "model_module": "@jupyter-widgets/controls",
          "model_name": "HTMLModel",
          "model_module_version": "1.5.0",
          "state": {
            "_dom_classes": [],
            "_model_module": "@jupyter-widgets/controls",
            "_model_module_version": "1.5.0",
            "_model_name": "HTMLModel",
            "_view_count": null,
            "_view_module": "@jupyter-widgets/controls",
            "_view_module_version": "1.5.0",
            "_view_name": "HTMLView",
            "description": "",
            "description_tooltip": null,
            "layout": "IPY_MODEL_3e266fbadc994812b370cc7ad8ea6b3f",
            "placeholder": "​",
            "style": "IPY_MODEL_63bb462c36bc4923aea92a0b85ff0f5d",
            "value": "Map: 100%"
          }
        },
        "2687e058d90d4dc88196dec4e86cca7a": {
          "model_module": "@jupyter-widgets/controls",
          "model_name": "FloatProgressModel",
          "model_module_version": "1.5.0",
          "state": {
            "_dom_classes": [],
            "_model_module": "@jupyter-widgets/controls",
            "_model_module_version": "1.5.0",
            "_model_name": "FloatProgressModel",
            "_view_count": null,
            "_view_module": "@jupyter-widgets/controls",
            "_view_module_version": "1.5.0",
            "_view_name": "ProgressView",
            "bar_style": "success",
            "description": "",
            "description_tooltip": null,
            "layout": "IPY_MODEL_645ca65b2e4b4ceb9add60d25947043a",
            "max": 1440,
            "min": 0,
            "orientation": "horizontal",
            "style": "IPY_MODEL_e325161a343a4a06abd439c4ff564f8f",
            "value": 1440
          }
        },
        "45999c50ad794bb6a33beb9cf96483b0": {
          "model_module": "@jupyter-widgets/controls",
          "model_name": "HTMLModel",
          "model_module_version": "1.5.0",
          "state": {
            "_dom_classes": [],
            "_model_module": "@jupyter-widgets/controls",
            "_model_module_version": "1.5.0",
            "_model_name": "HTMLModel",
            "_view_count": null,
            "_view_module": "@jupyter-widgets/controls",
            "_view_module_version": "1.5.0",
            "_view_name": "HTMLView",
            "description": "",
            "description_tooltip": null,
            "layout": "IPY_MODEL_9f9842a1b5c048558d565942a6d76e69",
            "placeholder": "​",
            "style": "IPY_MODEL_31e9aebce2974778833b6950d87d1ced",
            "value": " 1440/1440 [00:00&lt;00:00, 3839.08 examples/s]"
          }
        },
        "0e2b8d25ff064c718ff36501ee51da12": {
          "model_module": "@jupyter-widgets/base",
          "model_name": "LayoutModel",
          "model_module_version": "1.2.0",
          "state": {
            "_model_module": "@jupyter-widgets/base",
            "_model_module_version": "1.2.0",
            "_model_name": "LayoutModel",
            "_view_count": null,
            "_view_module": "@jupyter-widgets/base",
            "_view_module_version": "1.2.0",
            "_view_name": "LayoutView",
            "align_content": null,
            "align_items": null,
            "align_self": null,
            "border": null,
            "bottom": null,
            "display": null,
            "flex": null,
            "flex_flow": null,
            "grid_area": null,
            "grid_auto_columns": null,
            "grid_auto_flow": null,
            "grid_auto_rows": null,
            "grid_column": null,
            "grid_gap": null,
            "grid_row": null,
            "grid_template_areas": null,
            "grid_template_columns": null,
            "grid_template_rows": null,
            "height": null,
            "justify_content": null,
            "justify_items": null,
            "left": null,
            "margin": null,
            "max_height": null,
            "max_width": null,
            "min_height": null,
            "min_width": null,
            "object_fit": null,
            "object_position": null,
            "order": null,
            "overflow": null,
            "overflow_x": null,
            "overflow_y": null,
            "padding": null,
            "right": null,
            "top": null,
            "visibility": null,
            "width": null
          }
        },
        "3e266fbadc994812b370cc7ad8ea6b3f": {
          "model_module": "@jupyter-widgets/base",
          "model_name": "LayoutModel",
          "model_module_version": "1.2.0",
          "state": {
            "_model_module": "@jupyter-widgets/base",
            "_model_module_version": "1.2.0",
            "_model_name": "LayoutModel",
            "_view_count": null,
            "_view_module": "@jupyter-widgets/base",
            "_view_module_version": "1.2.0",
            "_view_name": "LayoutView",
            "align_content": null,
            "align_items": null,
            "align_self": null,
            "border": null,
            "bottom": null,
            "display": null,
            "flex": null,
            "flex_flow": null,
            "grid_area": null,
            "grid_auto_columns": null,
            "grid_auto_flow": null,
            "grid_auto_rows": null,
            "grid_column": null,
            "grid_gap": null,
            "grid_row": null,
            "grid_template_areas": null,
            "grid_template_columns": null,
            "grid_template_rows": null,
            "height": null,
            "justify_content": null,
            "justify_items": null,
            "left": null,
            "margin": null,
            "max_height": null,
            "max_width": null,
            "min_height": null,
            "min_width": null,
            "object_fit": null,
            "object_position": null,
            "order": null,
            "overflow": null,
            "overflow_x": null,
            "overflow_y": null,
            "padding": null,
            "right": null,
            "top": null,
            "visibility": null,
            "width": null
          }
        },
        "63bb462c36bc4923aea92a0b85ff0f5d": {
          "model_module": "@jupyter-widgets/controls",
          "model_name": "DescriptionStyleModel",
          "model_module_version": "1.5.0",
          "state": {
            "_model_module": "@jupyter-widgets/controls",
            "_model_module_version": "1.5.0",
            "_model_name": "DescriptionStyleModel",
            "_view_count": null,
            "_view_module": "@jupyter-widgets/base",
            "_view_module_version": "1.2.0",
            "_view_name": "StyleView",
            "description_width": ""
          }
        },
        "645ca65b2e4b4ceb9add60d25947043a": {
          "model_module": "@jupyter-widgets/base",
          "model_name": "LayoutModel",
          "model_module_version": "1.2.0",
          "state": {
            "_model_module": "@jupyter-widgets/base",
            "_model_module_version": "1.2.0",
            "_model_name": "LayoutModel",
            "_view_count": null,
            "_view_module": "@jupyter-widgets/base",
            "_view_module_version": "1.2.0",
            "_view_name": "LayoutView",
            "align_content": null,
            "align_items": null,
            "align_self": null,
            "border": null,
            "bottom": null,
            "display": null,
            "flex": null,
            "flex_flow": null,
            "grid_area": null,
            "grid_auto_columns": null,
            "grid_auto_flow": null,
            "grid_auto_rows": null,
            "grid_column": null,
            "grid_gap": null,
            "grid_row": null,
            "grid_template_areas": null,
            "grid_template_columns": null,
            "grid_template_rows": null,
            "height": null,
            "justify_content": null,
            "justify_items": null,
            "left": null,
            "margin": null,
            "max_height": null,
            "max_width": null,
            "min_height": null,
            "min_width": null,
            "object_fit": null,
            "object_position": null,
            "order": null,
            "overflow": null,
            "overflow_x": null,
            "overflow_y": null,
            "padding": null,
            "right": null,
            "top": null,
            "visibility": null,
            "width": null
          }
        },
        "e325161a343a4a06abd439c4ff564f8f": {
          "model_module": "@jupyter-widgets/controls",
          "model_name": "ProgressStyleModel",
          "model_module_version": "1.5.0",
          "state": {
            "_model_module": "@jupyter-widgets/controls",
            "_model_module_version": "1.5.0",
            "_model_name": "ProgressStyleModel",
            "_view_count": null,
            "_view_module": "@jupyter-widgets/base",
            "_view_module_version": "1.2.0",
            "_view_name": "StyleView",
            "bar_color": null,
            "description_width": ""
          }
        },
        "9f9842a1b5c048558d565942a6d76e69": {
          "model_module": "@jupyter-widgets/base",
          "model_name": "LayoutModel",
          "model_module_version": "1.2.0",
          "state": {
            "_model_module": "@jupyter-widgets/base",
            "_model_module_version": "1.2.0",
            "_model_name": "LayoutModel",
            "_view_count": null,
            "_view_module": "@jupyter-widgets/base",
            "_view_module_version": "1.2.0",
            "_view_name": "LayoutView",
            "align_content": null,
            "align_items": null,
            "align_self": null,
            "border": null,
            "bottom": null,
            "display": null,
            "flex": null,
            "flex_flow": null,
            "grid_area": null,
            "grid_auto_columns": null,
            "grid_auto_flow": null,
            "grid_auto_rows": null,
            "grid_column": null,
            "grid_gap": null,
            "grid_row": null,
            "grid_template_areas": null,
            "grid_template_columns": null,
            "grid_template_rows": null,
            "height": null,
            "justify_content": null,
            "justify_items": null,
            "left": null,
            "margin": null,
            "max_height": null,
            "max_width": null,
            "min_height": null,
            "min_width": null,
            "object_fit": null,
            "object_position": null,
            "order": null,
            "overflow": null,
            "overflow_x": null,
            "overflow_y": null,
            "padding": null,
            "right": null,
            "top": null,
            "visibility": null,
            "width": null
          }
        },
        "31e9aebce2974778833b6950d87d1ced": {
          "model_module": "@jupyter-widgets/controls",
          "model_name": "DescriptionStyleModel",
          "model_module_version": "1.5.0",
          "state": {
            "_model_module": "@jupyter-widgets/controls",
            "_model_module_version": "1.5.0",
            "_model_name": "DescriptionStyleModel",
            "_view_count": null,
            "_view_module": "@jupyter-widgets/base",
            "_view_module_version": "1.2.0",
            "_view_name": "StyleView",
            "description_width": ""
          }
        },
        "f1e5544a44e04919a51d5a84e68d822a": {
          "model_module": "@jupyter-widgets/controls",
          "model_name": "HBoxModel",
          "model_module_version": "1.5.0",
          "state": {
            "_dom_classes": [],
            "_model_module": "@jupyter-widgets/controls",
            "_model_module_version": "1.5.0",
            "_model_name": "HBoxModel",
            "_view_count": null,
            "_view_module": "@jupyter-widgets/controls",
            "_view_module_version": "1.5.0",
            "_view_name": "HBoxView",
            "box_style": "",
            "children": [
              "IPY_MODEL_1087a0aa7d274e6ca92bfd81adf7e3ba",
              "IPY_MODEL_5b56423156f6424bbabc7a306131c08f",
              "IPY_MODEL_8ccbda3903a943ffb15e9abdf3e95daa"
            ],
            "layout": "IPY_MODEL_6c6c291a9ede4e16a82c22fe22f70987"
          }
        },
        "1087a0aa7d274e6ca92bfd81adf7e3ba": {
          "model_module": "@jupyter-widgets/controls",
          "model_name": "HTMLModel",
          "model_module_version": "1.5.0",
          "state": {
            "_dom_classes": [],
            "_model_module": "@jupyter-widgets/controls",
            "_model_module_version": "1.5.0",
            "_model_name": "HTMLModel",
            "_view_count": null,
            "_view_module": "@jupyter-widgets/controls",
            "_view_module_version": "1.5.0",
            "_view_name": "HTMLView",
            "description": "",
            "description_tooltip": null,
            "layout": "IPY_MODEL_7461da9102c44918a15acbba654e5165",
            "placeholder": "​",
            "style": "IPY_MODEL_bb5240523468455593b0accc73e5d894",
            "value": "Map: 100%"
          }
        },
        "5b56423156f6424bbabc7a306131c08f": {
          "model_module": "@jupyter-widgets/controls",
          "model_name": "FloatProgressModel",
          "model_module_version": "1.5.0",
          "state": {
            "_dom_classes": [],
            "_model_module": "@jupyter-widgets/controls",
            "_model_module_version": "1.5.0",
            "_model_name": "FloatProgressModel",
            "_view_count": null,
            "_view_module": "@jupyter-widgets/controls",
            "_view_module_version": "1.5.0",
            "_view_name": "ProgressView",
            "bar_style": "success",
            "description": "",
            "description_tooltip": null,
            "layout": "IPY_MODEL_f180781efe764f23a33cf5aa26a97b5b",
            "max": 1827,
            "min": 0,
            "orientation": "horizontal",
            "style": "IPY_MODEL_447c578325ac4c4fbe178ab8eedbdd95",
            "value": 1827
          }
        },
        "8ccbda3903a943ffb15e9abdf3e95daa": {
          "model_module": "@jupyter-widgets/controls",
          "model_name": "HTMLModel",
          "model_module_version": "1.5.0",
          "state": {
            "_dom_classes": [],
            "_model_module": "@jupyter-widgets/controls",
            "_model_module_version": "1.5.0",
            "_model_name": "HTMLModel",
            "_view_count": null,
            "_view_module": "@jupyter-widgets/controls",
            "_view_module_version": "1.5.0",
            "_view_name": "HTMLView",
            "description": "",
            "description_tooltip": null,
            "layout": "IPY_MODEL_2be4d325119f4cb5bbf490f19c47f44e",
            "placeholder": "​",
            "style": "IPY_MODEL_49a724d7169a4e1e81e40d95250ad7f2",
            "value": " 1827/1827 [00:00&lt;00:00, 3670.23 examples/s]"
          }
        },
        "6c6c291a9ede4e16a82c22fe22f70987": {
          "model_module": "@jupyter-widgets/base",
          "model_name": "LayoutModel",
          "model_module_version": "1.2.0",
          "state": {
            "_model_module": "@jupyter-widgets/base",
            "_model_module_version": "1.2.0",
            "_model_name": "LayoutModel",
            "_view_count": null,
            "_view_module": "@jupyter-widgets/base",
            "_view_module_version": "1.2.0",
            "_view_name": "LayoutView",
            "align_content": null,
            "align_items": null,
            "align_self": null,
            "border": null,
            "bottom": null,
            "display": null,
            "flex": null,
            "flex_flow": null,
            "grid_area": null,
            "grid_auto_columns": null,
            "grid_auto_flow": null,
            "grid_auto_rows": null,
            "grid_column": null,
            "grid_gap": null,
            "grid_row": null,
            "grid_template_areas": null,
            "grid_template_columns": null,
            "grid_template_rows": null,
            "height": null,
            "justify_content": null,
            "justify_items": null,
            "left": null,
            "margin": null,
            "max_height": null,
            "max_width": null,
            "min_height": null,
            "min_width": null,
            "object_fit": null,
            "object_position": null,
            "order": null,
            "overflow": null,
            "overflow_x": null,
            "overflow_y": null,
            "padding": null,
            "right": null,
            "top": null,
            "visibility": null,
            "width": null
          }
        },
        "7461da9102c44918a15acbba654e5165": {
          "model_module": "@jupyter-widgets/base",
          "model_name": "LayoutModel",
          "model_module_version": "1.2.0",
          "state": {
            "_model_module": "@jupyter-widgets/base",
            "_model_module_version": "1.2.0",
            "_model_name": "LayoutModel",
            "_view_count": null,
            "_view_module": "@jupyter-widgets/base",
            "_view_module_version": "1.2.0",
            "_view_name": "LayoutView",
            "align_content": null,
            "align_items": null,
            "align_self": null,
            "border": null,
            "bottom": null,
            "display": null,
            "flex": null,
            "flex_flow": null,
            "grid_area": null,
            "grid_auto_columns": null,
            "grid_auto_flow": null,
            "grid_auto_rows": null,
            "grid_column": null,
            "grid_gap": null,
            "grid_row": null,
            "grid_template_areas": null,
            "grid_template_columns": null,
            "grid_template_rows": null,
            "height": null,
            "justify_content": null,
            "justify_items": null,
            "left": null,
            "margin": null,
            "max_height": null,
            "max_width": null,
            "min_height": null,
            "min_width": null,
            "object_fit": null,
            "object_position": null,
            "order": null,
            "overflow": null,
            "overflow_x": null,
            "overflow_y": null,
            "padding": null,
            "right": null,
            "top": null,
            "visibility": null,
            "width": null
          }
        },
        "bb5240523468455593b0accc73e5d894": {
          "model_module": "@jupyter-widgets/controls",
          "model_name": "DescriptionStyleModel",
          "model_module_version": "1.5.0",
          "state": {
            "_model_module": "@jupyter-widgets/controls",
            "_model_module_version": "1.5.0",
            "_model_name": "DescriptionStyleModel",
            "_view_count": null,
            "_view_module": "@jupyter-widgets/base",
            "_view_module_version": "1.2.0",
            "_view_name": "StyleView",
            "description_width": ""
          }
        },
        "f180781efe764f23a33cf5aa26a97b5b": {
          "model_module": "@jupyter-widgets/base",
          "model_name": "LayoutModel",
          "model_module_version": "1.2.0",
          "state": {
            "_model_module": "@jupyter-widgets/base",
            "_model_module_version": "1.2.0",
            "_model_name": "LayoutModel",
            "_view_count": null,
            "_view_module": "@jupyter-widgets/base",
            "_view_module_version": "1.2.0",
            "_view_name": "LayoutView",
            "align_content": null,
            "align_items": null,
            "align_self": null,
            "border": null,
            "bottom": null,
            "display": null,
            "flex": null,
            "flex_flow": null,
            "grid_area": null,
            "grid_auto_columns": null,
            "grid_auto_flow": null,
            "grid_auto_rows": null,
            "grid_column": null,
            "grid_gap": null,
            "grid_row": null,
            "grid_template_areas": null,
            "grid_template_columns": null,
            "grid_template_rows": null,
            "height": null,
            "justify_content": null,
            "justify_items": null,
            "left": null,
            "margin": null,
            "max_height": null,
            "max_width": null,
            "min_height": null,
            "min_width": null,
            "object_fit": null,
            "object_position": null,
            "order": null,
            "overflow": null,
            "overflow_x": null,
            "overflow_y": null,
            "padding": null,
            "right": null,
            "top": null,
            "visibility": null,
            "width": null
          }
        },
        "447c578325ac4c4fbe178ab8eedbdd95": {
          "model_module": "@jupyter-widgets/controls",
          "model_name": "ProgressStyleModel",
          "model_module_version": "1.5.0",
          "state": {
            "_model_module": "@jupyter-widgets/controls",
            "_model_module_version": "1.5.0",
            "_model_name": "ProgressStyleModel",
            "_view_count": null,
            "_view_module": "@jupyter-widgets/base",
            "_view_module_version": "1.2.0",
            "_view_name": "StyleView",
            "bar_color": null,
            "description_width": ""
          }
        },
        "2be4d325119f4cb5bbf490f19c47f44e": {
          "model_module": "@jupyter-widgets/base",
          "model_name": "LayoutModel",
          "model_module_version": "1.2.0",
          "state": {
            "_model_module": "@jupyter-widgets/base",
            "_model_module_version": "1.2.0",
            "_model_name": "LayoutModel",
            "_view_count": null,
            "_view_module": "@jupyter-widgets/base",
            "_view_module_version": "1.2.0",
            "_view_name": "LayoutView",
            "align_content": null,
            "align_items": null,
            "align_self": null,
            "border": null,
            "bottom": null,
            "display": null,
            "flex": null,
            "flex_flow": null,
            "grid_area": null,
            "grid_auto_columns": null,
            "grid_auto_flow": null,
            "grid_auto_rows": null,
            "grid_column": null,
            "grid_gap": null,
            "grid_row": null,
            "grid_template_areas": null,
            "grid_template_columns": null,
            "grid_template_rows": null,
            "height": null,
            "justify_content": null,
            "justify_items": null,
            "left": null,
            "margin": null,
            "max_height": null,
            "max_width": null,
            "min_height": null,
            "min_width": null,
            "object_fit": null,
            "object_position": null,
            "order": null,
            "overflow": null,
            "overflow_x": null,
            "overflow_y": null,
            "padding": null,
            "right": null,
            "top": null,
            "visibility": null,
            "width": null
          }
        },
        "49a724d7169a4e1e81e40d95250ad7f2": {
          "model_module": "@jupyter-widgets/controls",
          "model_name": "DescriptionStyleModel",
          "model_module_version": "1.5.0",
          "state": {
            "_model_module": "@jupyter-widgets/controls",
            "_model_module_version": "1.5.0",
            "_model_name": "DescriptionStyleModel",
            "_view_count": null,
            "_view_module": "@jupyter-widgets/base",
            "_view_module_version": "1.2.0",
            "_view_name": "StyleView",
            "description_width": ""
          }
        },
        "fe0c49b665ce47f282177316d6efaa52": {
          "model_module": "@jupyter-widgets/controls",
          "model_name": "HBoxModel",
          "model_module_version": "1.5.0",
          "state": {
            "_dom_classes": [],
            "_model_module": "@jupyter-widgets/controls",
            "_model_module_version": "1.5.0",
            "_model_name": "HBoxModel",
            "_view_count": null,
            "_view_module": "@jupyter-widgets/controls",
            "_view_module_version": "1.5.0",
            "_view_name": "HBoxView",
            "box_style": "",
            "children": [
              "IPY_MODEL_5522041ed8914978b052f4e475d9d902",
              "IPY_MODEL_ccd644f73bbb4038a9d0957bd057c6fa",
              "IPY_MODEL_e68bfdf503f24ffda0c2e2cca05b60bb"
            ],
            "layout": "IPY_MODEL_7b6bcea5c40b404788dfdd5be4055a65"
          }
        },
        "5522041ed8914978b052f4e475d9d902": {
          "model_module": "@jupyter-widgets/controls",
          "model_name": "HTMLModel",
          "model_module_version": "1.5.0",
          "state": {
            "_dom_classes": [],
            "_model_module": "@jupyter-widgets/controls",
            "_model_module_version": "1.5.0",
            "_model_name": "HTMLModel",
            "_view_count": null,
            "_view_module": "@jupyter-widgets/controls",
            "_view_module_version": "1.5.0",
            "_view_name": "HTMLView",
            "description": "",
            "description_tooltip": null,
            "layout": "IPY_MODEL_d00b814f970e4789ba3dedc7123fd19c",
            "placeholder": "​",
            "style": "IPY_MODEL_9f0bb0b1e9c0450cbece27d4e28d9535",
            "value": "Map: 100%"
          }
        },
        "ccd644f73bbb4038a9d0957bd057c6fa": {
          "model_module": "@jupyter-widgets/controls",
          "model_name": "FloatProgressModel",
          "model_module_version": "1.5.0",
          "state": {
            "_dom_classes": [],
            "_model_module": "@jupyter-widgets/controls",
            "_model_module_version": "1.5.0",
            "_model_name": "FloatProgressModel",
            "_view_count": null,
            "_view_module": "@jupyter-widgets/controls",
            "_view_module_version": "1.5.0",
            "_view_name": "ProgressView",
            "bar_style": "success",
            "description": "",
            "description_tooltip": null,
            "layout": "IPY_MODEL_dba6f6772fa144fe97a3c6bd518fe8ef",
            "max": 4725,
            "min": 0,
            "orientation": "horizontal",
            "style": "IPY_MODEL_369eff7730c943c4871801736e1f6b52",
            "value": 4725
          }
        },
        "e68bfdf503f24ffda0c2e2cca05b60bb": {
          "model_module": "@jupyter-widgets/controls",
          "model_name": "HTMLModel",
          "model_module_version": "1.5.0",
          "state": {
            "_dom_classes": [],
            "_model_module": "@jupyter-widgets/controls",
            "_model_module_version": "1.5.0",
            "_model_name": "HTMLModel",
            "_view_count": null,
            "_view_module": "@jupyter-widgets/controls",
            "_view_module_version": "1.5.0",
            "_view_name": "HTMLView",
            "description": "",
            "description_tooltip": null,
            "layout": "IPY_MODEL_b559de04085846058d5b49ea5cb1ccfb",
            "placeholder": "​",
            "style": "IPY_MODEL_2cbdb9caf40c41d9b0312ca68994eadc",
            "value": " 4725/4725 [00:01&lt;00:00, 3032.81 examples/s]"
          }
        },
        "7b6bcea5c40b404788dfdd5be4055a65": {
          "model_module": "@jupyter-widgets/base",
          "model_name": "LayoutModel",
          "model_module_version": "1.2.0",
          "state": {
            "_model_module": "@jupyter-widgets/base",
            "_model_module_version": "1.2.0",
            "_model_name": "LayoutModel",
            "_view_count": null,
            "_view_module": "@jupyter-widgets/base",
            "_view_module_version": "1.2.0",
            "_view_name": "LayoutView",
            "align_content": null,
            "align_items": null,
            "align_self": null,
            "border": null,
            "bottom": null,
            "display": null,
            "flex": null,
            "flex_flow": null,
            "grid_area": null,
            "grid_auto_columns": null,
            "grid_auto_flow": null,
            "grid_auto_rows": null,
            "grid_column": null,
            "grid_gap": null,
            "grid_row": null,
            "grid_template_areas": null,
            "grid_template_columns": null,
            "grid_template_rows": null,
            "height": null,
            "justify_content": null,
            "justify_items": null,
            "left": null,
            "margin": null,
            "max_height": null,
            "max_width": null,
            "min_height": null,
            "min_width": null,
            "object_fit": null,
            "object_position": null,
            "order": null,
            "overflow": null,
            "overflow_x": null,
            "overflow_y": null,
            "padding": null,
            "right": null,
            "top": null,
            "visibility": null,
            "width": null
          }
        },
        "d00b814f970e4789ba3dedc7123fd19c": {
          "model_module": "@jupyter-widgets/base",
          "model_name": "LayoutModel",
          "model_module_version": "1.2.0",
          "state": {
            "_model_module": "@jupyter-widgets/base",
            "_model_module_version": "1.2.0",
            "_model_name": "LayoutModel",
            "_view_count": null,
            "_view_module": "@jupyter-widgets/base",
            "_view_module_version": "1.2.0",
            "_view_name": "LayoutView",
            "align_content": null,
            "align_items": null,
            "align_self": null,
            "border": null,
            "bottom": null,
            "display": null,
            "flex": null,
            "flex_flow": null,
            "grid_area": null,
            "grid_auto_columns": null,
            "grid_auto_flow": null,
            "grid_auto_rows": null,
            "grid_column": null,
            "grid_gap": null,
            "grid_row": null,
            "grid_template_areas": null,
            "grid_template_columns": null,
            "grid_template_rows": null,
            "height": null,
            "justify_content": null,
            "justify_items": null,
            "left": null,
            "margin": null,
            "max_height": null,
            "max_width": null,
            "min_height": null,
            "min_width": null,
            "object_fit": null,
            "object_position": null,
            "order": null,
            "overflow": null,
            "overflow_x": null,
            "overflow_y": null,
            "padding": null,
            "right": null,
            "top": null,
            "visibility": null,
            "width": null
          }
        },
        "9f0bb0b1e9c0450cbece27d4e28d9535": {
          "model_module": "@jupyter-widgets/controls",
          "model_name": "DescriptionStyleModel",
          "model_module_version": "1.5.0",
          "state": {
            "_model_module": "@jupyter-widgets/controls",
            "_model_module_version": "1.5.0",
            "_model_name": "DescriptionStyleModel",
            "_view_count": null,
            "_view_module": "@jupyter-widgets/base",
            "_view_module_version": "1.2.0",
            "_view_name": "StyleView",
            "description_width": ""
          }
        },
        "dba6f6772fa144fe97a3c6bd518fe8ef": {
          "model_module": "@jupyter-widgets/base",
          "model_name": "LayoutModel",
          "model_module_version": "1.2.0",
          "state": {
            "_model_module": "@jupyter-widgets/base",
            "_model_module_version": "1.2.0",
            "_model_name": "LayoutModel",
            "_view_count": null,
            "_view_module": "@jupyter-widgets/base",
            "_view_module_version": "1.2.0",
            "_view_name": "LayoutView",
            "align_content": null,
            "align_items": null,
            "align_self": null,
            "border": null,
            "bottom": null,
            "display": null,
            "flex": null,
            "flex_flow": null,
            "grid_area": null,
            "grid_auto_columns": null,
            "grid_auto_flow": null,
            "grid_auto_rows": null,
            "grid_column": null,
            "grid_gap": null,
            "grid_row": null,
            "grid_template_areas": null,
            "grid_template_columns": null,
            "grid_template_rows": null,
            "height": null,
            "justify_content": null,
            "justify_items": null,
            "left": null,
            "margin": null,
            "max_height": null,
            "max_width": null,
            "min_height": null,
            "min_width": null,
            "object_fit": null,
            "object_position": null,
            "order": null,
            "overflow": null,
            "overflow_x": null,
            "overflow_y": null,
            "padding": null,
            "right": null,
            "top": null,
            "visibility": null,
            "width": null
          }
        },
        "369eff7730c943c4871801736e1f6b52": {
          "model_module": "@jupyter-widgets/controls",
          "model_name": "ProgressStyleModel",
          "model_module_version": "1.5.0",
          "state": {
            "_model_module": "@jupyter-widgets/controls",
            "_model_module_version": "1.5.0",
            "_model_name": "ProgressStyleModel",
            "_view_count": null,
            "_view_module": "@jupyter-widgets/base",
            "_view_module_version": "1.2.0",
            "_view_name": "StyleView",
            "bar_color": null,
            "description_width": ""
          }
        },
        "b559de04085846058d5b49ea5cb1ccfb": {
          "model_module": "@jupyter-widgets/base",
          "model_name": "LayoutModel",
          "model_module_version": "1.2.0",
          "state": {
            "_model_module": "@jupyter-widgets/base",
            "_model_module_version": "1.2.0",
            "_model_name": "LayoutModel",
            "_view_count": null,
            "_view_module": "@jupyter-widgets/base",
            "_view_module_version": "1.2.0",
            "_view_name": "LayoutView",
            "align_content": null,
            "align_items": null,
            "align_self": null,
            "border": null,
            "bottom": null,
            "display": null,
            "flex": null,
            "flex_flow": null,
            "grid_area": null,
            "grid_auto_columns": null,
            "grid_auto_flow": null,
            "grid_auto_rows": null,
            "grid_column": null,
            "grid_gap": null,
            "grid_row": null,
            "grid_template_areas": null,
            "grid_template_columns": null,
            "grid_template_rows": null,
            "height": null,
            "justify_content": null,
            "justify_items": null,
            "left": null,
            "margin": null,
            "max_height": null,
            "max_width": null,
            "min_height": null,
            "min_width": null,
            "object_fit": null,
            "object_position": null,
            "order": null,
            "overflow": null,
            "overflow_x": null,
            "overflow_y": null,
            "padding": null,
            "right": null,
            "top": null,
            "visibility": null,
            "width": null
          }
        },
        "2cbdb9caf40c41d9b0312ca68994eadc": {
          "model_module": "@jupyter-widgets/controls",
          "model_name": "DescriptionStyleModel",
          "model_module_version": "1.5.0",
          "state": {
            "_model_module": "@jupyter-widgets/controls",
            "_model_module_version": "1.5.0",
            "_model_name": "DescriptionStyleModel",
            "_view_count": null,
            "_view_module": "@jupyter-widgets/base",
            "_view_module_version": "1.2.0",
            "_view_name": "StyleView",
            "description_width": ""
          }
        },
        "b053cdfeafc2419dbba4ca8e6321edd8": {
          "model_module": "@jupyter-widgets/controls",
          "model_name": "HBoxModel",
          "model_module_version": "1.5.0",
          "state": {
            "_dom_classes": [],
            "_model_module": "@jupyter-widgets/controls",
            "_model_module_version": "1.5.0",
            "_model_name": "HBoxModel",
            "_view_count": null,
            "_view_module": "@jupyter-widgets/controls",
            "_view_module_version": "1.5.0",
            "_view_name": "HBoxView",
            "box_style": "",
            "children": [
              "IPY_MODEL_9c02d019a47d4d528cf1d296d3c5289e",
              "IPY_MODEL_c2f4c1f273fe4634b7b7097b7145a2e5",
              "IPY_MODEL_8f9e9155e34243fb97221b0446815d85"
            ],
            "layout": "IPY_MODEL_8d062aa9434b4dd2aeeb0e9a6a2f66d2"
          }
        },
        "9c02d019a47d4d528cf1d296d3c5289e": {
          "model_module": "@jupyter-widgets/controls",
          "model_name": "HTMLModel",
          "model_module_version": "1.5.0",
          "state": {
            "_dom_classes": [],
            "_model_module": "@jupyter-widgets/controls",
            "_model_module_version": "1.5.0",
            "_model_name": "HTMLModel",
            "_view_count": null,
            "_view_module": "@jupyter-widgets/controls",
            "_view_module_version": "1.5.0",
            "_view_name": "HTMLView",
            "description": "",
            "description_tooltip": null,
            "layout": "IPY_MODEL_8a0a507c8c81466cbf4fa030e5c9e6d4",
            "placeholder": "​",
            "style": "IPY_MODEL_8c650e8a8ecc4cb2a9d70e703f69f146",
            "value": "Map: 100%"
          }
        },
        "c2f4c1f273fe4634b7b7097b7145a2e5": {
          "model_module": "@jupyter-widgets/controls",
          "model_name": "FloatProgressModel",
          "model_module_version": "1.5.0",
          "state": {
            "_dom_classes": [],
            "_model_module": "@jupyter-widgets/controls",
            "_model_module_version": "1.5.0",
            "_model_name": "FloatProgressModel",
            "_view_count": null,
            "_view_module": "@jupyter-widgets/controls",
            "_view_module_version": "1.5.0",
            "_view_name": "ProgressView",
            "bar_style": "success",
            "description": "",
            "description_tooltip": null,
            "layout": "IPY_MODEL_0bdcc4c5e0ca4c9e88273b0f630188e7",
            "max": 1440,
            "min": 0,
            "orientation": "horizontal",
            "style": "IPY_MODEL_4c51c29fedba4b76911641b0afb152fb",
            "value": 1440
          }
        },
        "8f9e9155e34243fb97221b0446815d85": {
          "model_module": "@jupyter-widgets/controls",
          "model_name": "HTMLModel",
          "model_module_version": "1.5.0",
          "state": {
            "_dom_classes": [],
            "_model_module": "@jupyter-widgets/controls",
            "_model_module_version": "1.5.0",
            "_model_name": "HTMLModel",
            "_view_count": null,
            "_view_module": "@jupyter-widgets/controls",
            "_view_module_version": "1.5.0",
            "_view_name": "HTMLView",
            "description": "",
            "description_tooltip": null,
            "layout": "IPY_MODEL_150d59f709e746e180230012e38e4e11",
            "placeholder": "​",
            "style": "IPY_MODEL_bfb0777213e3475f8225e4e5cb8d8551",
            "value": " 1440/1440 [00:00&lt;00:00, 2132.36 examples/s]"
          }
        },
        "8d062aa9434b4dd2aeeb0e9a6a2f66d2": {
          "model_module": "@jupyter-widgets/base",
          "model_name": "LayoutModel",
          "model_module_version": "1.2.0",
          "state": {
            "_model_module": "@jupyter-widgets/base",
            "_model_module_version": "1.2.0",
            "_model_name": "LayoutModel",
            "_view_count": null,
            "_view_module": "@jupyter-widgets/base",
            "_view_module_version": "1.2.0",
            "_view_name": "LayoutView",
            "align_content": null,
            "align_items": null,
            "align_self": null,
            "border": null,
            "bottom": null,
            "display": null,
            "flex": null,
            "flex_flow": null,
            "grid_area": null,
            "grid_auto_columns": null,
            "grid_auto_flow": null,
            "grid_auto_rows": null,
            "grid_column": null,
            "grid_gap": null,
            "grid_row": null,
            "grid_template_areas": null,
            "grid_template_columns": null,
            "grid_template_rows": null,
            "height": null,
            "justify_content": null,
            "justify_items": null,
            "left": null,
            "margin": null,
            "max_height": null,
            "max_width": null,
            "min_height": null,
            "min_width": null,
            "object_fit": null,
            "object_position": null,
            "order": null,
            "overflow": null,
            "overflow_x": null,
            "overflow_y": null,
            "padding": null,
            "right": null,
            "top": null,
            "visibility": null,
            "width": null
          }
        },
        "8a0a507c8c81466cbf4fa030e5c9e6d4": {
          "model_module": "@jupyter-widgets/base",
          "model_name": "LayoutModel",
          "model_module_version": "1.2.0",
          "state": {
            "_model_module": "@jupyter-widgets/base",
            "_model_module_version": "1.2.0",
            "_model_name": "LayoutModel",
            "_view_count": null,
            "_view_module": "@jupyter-widgets/base",
            "_view_module_version": "1.2.0",
            "_view_name": "LayoutView",
            "align_content": null,
            "align_items": null,
            "align_self": null,
            "border": null,
            "bottom": null,
            "display": null,
            "flex": null,
            "flex_flow": null,
            "grid_area": null,
            "grid_auto_columns": null,
            "grid_auto_flow": null,
            "grid_auto_rows": null,
            "grid_column": null,
            "grid_gap": null,
            "grid_row": null,
            "grid_template_areas": null,
            "grid_template_columns": null,
            "grid_template_rows": null,
            "height": null,
            "justify_content": null,
            "justify_items": null,
            "left": null,
            "margin": null,
            "max_height": null,
            "max_width": null,
            "min_height": null,
            "min_width": null,
            "object_fit": null,
            "object_position": null,
            "order": null,
            "overflow": null,
            "overflow_x": null,
            "overflow_y": null,
            "padding": null,
            "right": null,
            "top": null,
            "visibility": null,
            "width": null
          }
        },
        "8c650e8a8ecc4cb2a9d70e703f69f146": {
          "model_module": "@jupyter-widgets/controls",
          "model_name": "DescriptionStyleModel",
          "model_module_version": "1.5.0",
          "state": {
            "_model_module": "@jupyter-widgets/controls",
            "_model_module_version": "1.5.0",
            "_model_name": "DescriptionStyleModel",
            "_view_count": null,
            "_view_module": "@jupyter-widgets/base",
            "_view_module_version": "1.2.0",
            "_view_name": "StyleView",
            "description_width": ""
          }
        },
        "0bdcc4c5e0ca4c9e88273b0f630188e7": {
          "model_module": "@jupyter-widgets/base",
          "model_name": "LayoutModel",
          "model_module_version": "1.2.0",
          "state": {
            "_model_module": "@jupyter-widgets/base",
            "_model_module_version": "1.2.0",
            "_model_name": "LayoutModel",
            "_view_count": null,
            "_view_module": "@jupyter-widgets/base",
            "_view_module_version": "1.2.0",
            "_view_name": "LayoutView",
            "align_content": null,
            "align_items": null,
            "align_self": null,
            "border": null,
            "bottom": null,
            "display": null,
            "flex": null,
            "flex_flow": null,
            "grid_area": null,
            "grid_auto_columns": null,
            "grid_auto_flow": null,
            "grid_auto_rows": null,
            "grid_column": null,
            "grid_gap": null,
            "grid_row": null,
            "grid_template_areas": null,
            "grid_template_columns": null,
            "grid_template_rows": null,
            "height": null,
            "justify_content": null,
            "justify_items": null,
            "left": null,
            "margin": null,
            "max_height": null,
            "max_width": null,
            "min_height": null,
            "min_width": null,
            "object_fit": null,
            "object_position": null,
            "order": null,
            "overflow": null,
            "overflow_x": null,
            "overflow_y": null,
            "padding": null,
            "right": null,
            "top": null,
            "visibility": null,
            "width": null
          }
        },
        "4c51c29fedba4b76911641b0afb152fb": {
          "model_module": "@jupyter-widgets/controls",
          "model_name": "ProgressStyleModel",
          "model_module_version": "1.5.0",
          "state": {
            "_model_module": "@jupyter-widgets/controls",
            "_model_module_version": "1.5.0",
            "_model_name": "ProgressStyleModel",
            "_view_count": null,
            "_view_module": "@jupyter-widgets/base",
            "_view_module_version": "1.2.0",
            "_view_name": "StyleView",
            "bar_color": null,
            "description_width": ""
          }
        },
        "150d59f709e746e180230012e38e4e11": {
          "model_module": "@jupyter-widgets/base",
          "model_name": "LayoutModel",
          "model_module_version": "1.2.0",
          "state": {
            "_model_module": "@jupyter-widgets/base",
            "_model_module_version": "1.2.0",
            "_model_name": "LayoutModel",
            "_view_count": null,
            "_view_module": "@jupyter-widgets/base",
            "_view_module_version": "1.2.0",
            "_view_name": "LayoutView",
            "align_content": null,
            "align_items": null,
            "align_self": null,
            "border": null,
            "bottom": null,
            "display": null,
            "flex": null,
            "flex_flow": null,
            "grid_area": null,
            "grid_auto_columns": null,
            "grid_auto_flow": null,
            "grid_auto_rows": null,
            "grid_column": null,
            "grid_gap": null,
            "grid_row": null,
            "grid_template_areas": null,
            "grid_template_columns": null,
            "grid_template_rows": null,
            "height": null,
            "justify_content": null,
            "justify_items": null,
            "left": null,
            "margin": null,
            "max_height": null,
            "max_width": null,
            "min_height": null,
            "min_width": null,
            "object_fit": null,
            "object_position": null,
            "order": null,
            "overflow": null,
            "overflow_x": null,
            "overflow_y": null,
            "padding": null,
            "right": null,
            "top": null,
            "visibility": null,
            "width": null
          }
        },
        "bfb0777213e3475f8225e4e5cb8d8551": {
          "model_module": "@jupyter-widgets/controls",
          "model_name": "DescriptionStyleModel",
          "model_module_version": "1.5.0",
          "state": {
            "_model_module": "@jupyter-widgets/controls",
            "_model_module_version": "1.5.0",
            "_model_name": "DescriptionStyleModel",
            "_view_count": null,
            "_view_module": "@jupyter-widgets/base",
            "_view_module_version": "1.2.0",
            "_view_name": "StyleView",
            "description_width": ""
          }
        },
        "01544264993c4c8691eee68d68894426": {
          "model_module": "@jupyter-widgets/controls",
          "model_name": "HBoxModel",
          "model_module_version": "1.5.0",
          "state": {
            "_dom_classes": [],
            "_model_module": "@jupyter-widgets/controls",
            "_model_module_version": "1.5.0",
            "_model_name": "HBoxModel",
            "_view_count": null,
            "_view_module": "@jupyter-widgets/controls",
            "_view_module_version": "1.5.0",
            "_view_name": "HBoxView",
            "box_style": "",
            "children": [
              "IPY_MODEL_098407f7f258456ea598c6b1e62d5c83",
              "IPY_MODEL_03b89e4c1ba44d298ff2a8b23d04048a",
              "IPY_MODEL_15c44225687046eaa41aebcc67380857"
            ],
            "layout": "IPY_MODEL_d3f95411bc714ab89092c955d533796d"
          }
        },
        "098407f7f258456ea598c6b1e62d5c83": {
          "model_module": "@jupyter-widgets/controls",
          "model_name": "HTMLModel",
          "model_module_version": "1.5.0",
          "state": {
            "_dom_classes": [],
            "_model_module": "@jupyter-widgets/controls",
            "_model_module_version": "1.5.0",
            "_model_name": "HTMLModel",
            "_view_count": null,
            "_view_module": "@jupyter-widgets/controls",
            "_view_module_version": "1.5.0",
            "_view_name": "HTMLView",
            "description": "",
            "description_tooltip": null,
            "layout": "IPY_MODEL_1f0c1434bfac453085604cc5120cd8d4",
            "placeholder": "​",
            "style": "IPY_MODEL_a76a61e38d234f6083f4d9f11b700843",
            "value": "Map: 100%"
          }
        },
        "03b89e4c1ba44d298ff2a8b23d04048a": {
          "model_module": "@jupyter-widgets/controls",
          "model_name": "FloatProgressModel",
          "model_module_version": "1.5.0",
          "state": {
            "_dom_classes": [],
            "_model_module": "@jupyter-widgets/controls",
            "_model_module_version": "1.5.0",
            "_model_name": "FloatProgressModel",
            "_view_count": null,
            "_view_module": "@jupyter-widgets/controls",
            "_view_module_version": "1.5.0",
            "_view_name": "ProgressView",
            "bar_style": "success",
            "description": "",
            "description_tooltip": null,
            "layout": "IPY_MODEL_ac99dca394554446a1ca0dadff876347",
            "max": 1827,
            "min": 0,
            "orientation": "horizontal",
            "style": "IPY_MODEL_6f6047ea71124873b9a2f65d1f5dbaa9",
            "value": 1827
          }
        },
        "15c44225687046eaa41aebcc67380857": {
          "model_module": "@jupyter-widgets/controls",
          "model_name": "HTMLModel",
          "model_module_version": "1.5.0",
          "state": {
            "_dom_classes": [],
            "_model_module": "@jupyter-widgets/controls",
            "_model_module_version": "1.5.0",
            "_model_name": "HTMLModel",
            "_view_count": null,
            "_view_module": "@jupyter-widgets/controls",
            "_view_module_version": "1.5.0",
            "_view_name": "HTMLView",
            "description": "",
            "description_tooltip": null,
            "layout": "IPY_MODEL_b856ed29328f44e8ac8c9c9d3cb31f96",
            "placeholder": "​",
            "style": "IPY_MODEL_f48691d7e0d74d8c9c3f61b2613a6e42",
            "value": " 1827/1827 [00:00&lt;00:00, 2689.34 examples/s]"
          }
        },
        "d3f95411bc714ab89092c955d533796d": {
          "model_module": "@jupyter-widgets/base",
          "model_name": "LayoutModel",
          "model_module_version": "1.2.0",
          "state": {
            "_model_module": "@jupyter-widgets/base",
            "_model_module_version": "1.2.0",
            "_model_name": "LayoutModel",
            "_view_count": null,
            "_view_module": "@jupyter-widgets/base",
            "_view_module_version": "1.2.0",
            "_view_name": "LayoutView",
            "align_content": null,
            "align_items": null,
            "align_self": null,
            "border": null,
            "bottom": null,
            "display": null,
            "flex": null,
            "flex_flow": null,
            "grid_area": null,
            "grid_auto_columns": null,
            "grid_auto_flow": null,
            "grid_auto_rows": null,
            "grid_column": null,
            "grid_gap": null,
            "grid_row": null,
            "grid_template_areas": null,
            "grid_template_columns": null,
            "grid_template_rows": null,
            "height": null,
            "justify_content": null,
            "justify_items": null,
            "left": null,
            "margin": null,
            "max_height": null,
            "max_width": null,
            "min_height": null,
            "min_width": null,
            "object_fit": null,
            "object_position": null,
            "order": null,
            "overflow": null,
            "overflow_x": null,
            "overflow_y": null,
            "padding": null,
            "right": null,
            "top": null,
            "visibility": null,
            "width": null
          }
        },
        "1f0c1434bfac453085604cc5120cd8d4": {
          "model_module": "@jupyter-widgets/base",
          "model_name": "LayoutModel",
          "model_module_version": "1.2.0",
          "state": {
            "_model_module": "@jupyter-widgets/base",
            "_model_module_version": "1.2.0",
            "_model_name": "LayoutModel",
            "_view_count": null,
            "_view_module": "@jupyter-widgets/base",
            "_view_module_version": "1.2.0",
            "_view_name": "LayoutView",
            "align_content": null,
            "align_items": null,
            "align_self": null,
            "border": null,
            "bottom": null,
            "display": null,
            "flex": null,
            "flex_flow": null,
            "grid_area": null,
            "grid_auto_columns": null,
            "grid_auto_flow": null,
            "grid_auto_rows": null,
            "grid_column": null,
            "grid_gap": null,
            "grid_row": null,
            "grid_template_areas": null,
            "grid_template_columns": null,
            "grid_template_rows": null,
            "height": null,
            "justify_content": null,
            "justify_items": null,
            "left": null,
            "margin": null,
            "max_height": null,
            "max_width": null,
            "min_height": null,
            "min_width": null,
            "object_fit": null,
            "object_position": null,
            "order": null,
            "overflow": null,
            "overflow_x": null,
            "overflow_y": null,
            "padding": null,
            "right": null,
            "top": null,
            "visibility": null,
            "width": null
          }
        },
        "a76a61e38d234f6083f4d9f11b700843": {
          "model_module": "@jupyter-widgets/controls",
          "model_name": "DescriptionStyleModel",
          "model_module_version": "1.5.0",
          "state": {
            "_model_module": "@jupyter-widgets/controls",
            "_model_module_version": "1.5.0",
            "_model_name": "DescriptionStyleModel",
            "_view_count": null,
            "_view_module": "@jupyter-widgets/base",
            "_view_module_version": "1.2.0",
            "_view_name": "StyleView",
            "description_width": ""
          }
        },
        "ac99dca394554446a1ca0dadff876347": {
          "model_module": "@jupyter-widgets/base",
          "model_name": "LayoutModel",
          "model_module_version": "1.2.0",
          "state": {
            "_model_module": "@jupyter-widgets/base",
            "_model_module_version": "1.2.0",
            "_model_name": "LayoutModel",
            "_view_count": null,
            "_view_module": "@jupyter-widgets/base",
            "_view_module_version": "1.2.0",
            "_view_name": "LayoutView",
            "align_content": null,
            "align_items": null,
            "align_self": null,
            "border": null,
            "bottom": null,
            "display": null,
            "flex": null,
            "flex_flow": null,
            "grid_area": null,
            "grid_auto_columns": null,
            "grid_auto_flow": null,
            "grid_auto_rows": null,
            "grid_column": null,
            "grid_gap": null,
            "grid_row": null,
            "grid_template_areas": null,
            "grid_template_columns": null,
            "grid_template_rows": null,
            "height": null,
            "justify_content": null,
            "justify_items": null,
            "left": null,
            "margin": null,
            "max_height": null,
            "max_width": null,
            "min_height": null,
            "min_width": null,
            "object_fit": null,
            "object_position": null,
            "order": null,
            "overflow": null,
            "overflow_x": null,
            "overflow_y": null,
            "padding": null,
            "right": null,
            "top": null,
            "visibility": null,
            "width": null
          }
        },
        "6f6047ea71124873b9a2f65d1f5dbaa9": {
          "model_module": "@jupyter-widgets/controls",
          "model_name": "ProgressStyleModel",
          "model_module_version": "1.5.0",
          "state": {
            "_model_module": "@jupyter-widgets/controls",
            "_model_module_version": "1.5.0",
            "_model_name": "ProgressStyleModel",
            "_view_count": null,
            "_view_module": "@jupyter-widgets/base",
            "_view_module_version": "1.2.0",
            "_view_name": "StyleView",
            "bar_color": null,
            "description_width": ""
          }
        },
        "b856ed29328f44e8ac8c9c9d3cb31f96": {
          "model_module": "@jupyter-widgets/base",
          "model_name": "LayoutModel",
          "model_module_version": "1.2.0",
          "state": {
            "_model_module": "@jupyter-widgets/base",
            "_model_module_version": "1.2.0",
            "_model_name": "LayoutModel",
            "_view_count": null,
            "_view_module": "@jupyter-widgets/base",
            "_view_module_version": "1.2.0",
            "_view_name": "LayoutView",
            "align_content": null,
            "align_items": null,
            "align_self": null,
            "border": null,
            "bottom": null,
            "display": null,
            "flex": null,
            "flex_flow": null,
            "grid_area": null,
            "grid_auto_columns": null,
            "grid_auto_flow": null,
            "grid_auto_rows": null,
            "grid_column": null,
            "grid_gap": null,
            "grid_row": null,
            "grid_template_areas": null,
            "grid_template_columns": null,
            "grid_template_rows": null,
            "height": null,
            "justify_content": null,
            "justify_items": null,
            "left": null,
            "margin": null,
            "max_height": null,
            "max_width": null,
            "min_height": null,
            "min_width": null,
            "object_fit": null,
            "object_position": null,
            "order": null,
            "overflow": null,
            "overflow_x": null,
            "overflow_y": null,
            "padding": null,
            "right": null,
            "top": null,
            "visibility": null,
            "width": null
          }
        },
        "f48691d7e0d74d8c9c3f61b2613a6e42": {
          "model_module": "@jupyter-widgets/controls",
          "model_name": "DescriptionStyleModel",
          "model_module_version": "1.5.0",
          "state": {
            "_model_module": "@jupyter-widgets/controls",
            "_model_module_version": "1.5.0",
            "_model_name": "DescriptionStyleModel",
            "_view_count": null,
            "_view_module": "@jupyter-widgets/base",
            "_view_module_version": "1.2.0",
            "_view_name": "StyleView",
            "description_width": ""
          }
        }
      }
    }
  },
  "nbformat": 4,
  "nbformat_minor": 0
}